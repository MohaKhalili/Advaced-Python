{
  "nbformat": 4,
  "nbformat_minor": 0,
  "metadata": {
    "colab": {
      "name": "matrix_multiplication_speed_test.ipynb",
      "provenance": [],
      "collapsed_sections": [],
      "authorship_tag": "ABX9TyNB7iOrAFGrvK19YhJuSW5B",
      "include_colab_link": true
    },
    "kernelspec": {
      "name": "python3",
      "display_name": "Python 3"
    },
    "language_info": {
      "name": "python"
    }
  },
  "cells": [
    {
      "cell_type": "markdown",
      "metadata": {
        "id": "view-in-github",
        "colab_type": "text"
      },
      "source": [
        "<a href=\"https://colab.research.google.com/github/mohakhalili/Numpy-LazyProgrammer/blob/main/matrix_multiplication_speed_test.ipynb\" target=\"_parent\"><img src=\"https://colab.research.google.com/assets/colab-badge.svg\" alt=\"Open In Colab\"/></a>"
      ]
    },
    {
      "cell_type": "code",
      "execution_count": 74,
      "metadata": {
        "colab": {
          "base_uri": "https://localhost:8080/"
        },
        "id": "68s9g41osUoe",
        "outputId": "13954c44-d5a6-4ccc-8f19-836dc5cc365d"
      },
      "outputs": [
        {
          "output_type": "stream",
          "name": "stdout",
          "text": [
            "[[19, 22], [43, 50]]\n",
            "[[19 22]\n",
            " [43 50]]\n",
            "dt1 / dt2: 0.9830508474576272\n"
          ]
        }
      ],
      "source": [
        "import numpy as np\n",
        "from datetime import datetime\n",
        "\n",
        "A = np.array([[1,2],[3,4]])\n",
        "B = np.array([[5,6],[7,8]])\n",
        "\n",
        "AA = [[1,2],[3,4]]\n",
        "BB = [[5,6],[7,8]]\n",
        " \n",
        "# iterating by row of A\n",
        "\n",
        "def mat_mul(a, b):\n",
        "  result = 0\n",
        "  result = [[sum(a * b for a, b in zip(A_row, B_col))\n",
        "                        for B_col in zip(*BB)]\n",
        "                                for A_row in AA]\n",
        "  return result\n",
        "\n",
        "t0 = datetime.now()\n",
        "mat_mul(a, b)\n",
        "dt1 = datetime.now() - t0\n",
        "print(mat_mul(a, b))\n",
        "\n",
        "t0 = datetime.now()\n",
        "A.dot(B)\n",
        "dt2 = datetime.now() - t0\n",
        "print(A.dot(B))\n",
        "\n",
        "\n",
        "\n",
        "print(\"dt1 / dt2:\", dt1.total_seconds() / dt2.total_seconds())"
      ]
    }
  ]
}