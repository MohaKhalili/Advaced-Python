{
  "cells": [
    {
      "cell_type": "markdown",
      "metadata": {
        "id": "view-in-github",
        "colab_type": "text"
      },
      "source": [
        "<a href=\"https://colab.research.google.com/github/mohakhalili/Advaced-Python/blob/main/MLprerequisites-LazyProgrammer/2_matrix_multiplication_speed_test.ipynb\" target=\"_parent\"><img src=\"https://colab.research.google.com/assets/colab-badge.svg\" alt=\"Open In Colab\"/></a>"
      ]
    },
    {
      "cell_type": "code",
      "execution_count": null,
      "metadata": {
        "colab": {
          "background_save": true
        },
        "id": "68s9g41osUoe",
        "outputId": "ae9fcc7e-cdf3-455a-8670-22fbfeb0d1b4"
      },
      "outputs": [
        {
          "name": "stdout",
          "output_type": "stream",
          "text": [
            "[50]\n",
            "[[19 22]\n",
            " [43 50]]\n",
            "dt1 / dt2: 0.8666666666666667\n"
          ]
        }
      ],
      "source": [
        "import numpy as np\n",
        "from datetime import datetime\n",
        "\n",
        "A = np.array([[1,2],[3,4]])\n",
        "B = np.array([[5,6],[7,8]])\n",
        "\n",
        "AA = [[1,2],[3,4]]\n",
        "BB = [[5,6],[7,8]]\n",
        " \n",
        "# iterating by row of A\n",
        "result = 0\n",
        "def mat_mul(a, b):\n",
        "  for A_row in AA:\n",
        "    for B_col in zip(*BB):\n",
        "        result = [sum(a * b for a, b in zip(A_row, B_col))]\n",
        "  return result\n",
        "\n",
        "t0 = datetime.now()\n",
        "mat_mul(a, b)\n",
        "dt1 = datetime.now() - t0\n",
        "print(mat_mul(a, b))\n",
        "\n",
        "t0 = datetime.now()\n",
        "A.dot(B)\n",
        "dt2 = datetime.now() - t0\n",
        "print(A.dot(B))\n",
        "print(\"dt1 / dt2:\", dt1.total_seconds() / dt2.total_seconds())"
      ]
    }
  ],
  "metadata": {
    "colab": {
      "collapsed_sections": [],
      "name": "2-matrix-multiplication-speed-test.ipynb",
      "provenance": [],
      "authorship_tag": "ABX9TyP57Nb3V+RLF5wK9AviC67C",
      "include_colab_link": true
    },
    "kernelspec": {
      "display_name": "Python 3",
      "name": "python3"
    },
    "language_info": {
      "name": "python"
    }
  },
  "nbformat": 4,
  "nbformat_minor": 0
}