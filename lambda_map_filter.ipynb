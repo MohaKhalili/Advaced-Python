{
  "nbformat": 4,
  "nbformat_minor": 0,
  "metadata": {
    "colab": {
      "name": "lambda-map-filter.ipynb",
      "provenance": [],
      "collapsed_sections": [],
      "toc_visible": true,
      "authorship_tag": "ABX9TyP4oML2vMXkCgBFV7ooTnyV",
      "include_colab_link": true
    },
    "kernelspec": {
      "name": "python3",
      "display_name": "Python 3"
    },
    "language_info": {
      "name": "python"
    }
  },
  "cells": [
    {
      "cell_type": "markdown",
      "metadata": {
        "id": "view-in-github",
        "colab_type": "text"
      },
      "source": [
        "<a href=\"https://colab.research.google.com/github/mohakhalili/Advaced-Python/blob/main/lambda_map_filter.ipynb\" target=\"_parent\"><img src=\"https://colab.research.google.com/assets/colab-badge.svg\" alt=\"Open In Colab\"/></a>"
      ]
    },
    {
      "cell_type": "markdown",
      "source": [
        "# lambda"
      ],
      "metadata": {
        "id": "cLovDxZlmywa"
      }
    },
    {
      "cell_type": "markdown",
      "source": [
        "lambda function\n",
        "\n",
        "lambda arg : Expression"
      ],
      "metadata": {
        "id": "bfaldiylmhFM"
      }
    },
    {
      "cell_type": "code",
      "source": [
        "myfunc = lambda x :x*2\n",
        "myfunc(3)"
      ],
      "metadata": {
        "colab": {
          "base_uri": "https://localhost:8080/"
        },
        "id": "2uX5BVvRmh2V",
        "outputId": "30da7214-de66-4e59-a331-d67b7308b940"
      },
      "execution_count": 2,
      "outputs": [
        {
          "output_type": "execute_result",
          "data": {
            "text/plain": [
              "6"
            ]
          },
          "metadata": {},
          "execution_count": 2
        }
      ]
    },
    {
      "cell_type": "markdown",
      "source": [
        "where is it be use ?"
      ],
      "metadata": {
        "id": "PHL9GAxKm59H"
      }
    },
    {
      "cell_type": "code",
      "source": [
        "a = [(3,4),(7,1),(5,9),(2,2)] \n",
        "a.sort()\n",
        "a"
      ],
      "metadata": {
        "colab": {
          "base_uri": "https://localhost:8080/"
        },
        "id": "hzMDjR_unDDo",
        "outputId": "69d7749a-005c-40b1-eb68-36b53258493b"
      },
      "execution_count": 4,
      "outputs": [
        {
          "output_type": "execute_result",
          "data": {
            "text/plain": [
              "[(2, 2), (3, 4), (5, 9), (7, 1)]"
            ]
          },
          "metadata": {},
          "execution_count": 4
        }
      ]
    },
    {
      "cell_type": "markdown",
      "source": [
        "sort by second argumant with lambda"
      ],
      "metadata": {
        "id": "HyMEUU8PnAOB"
      }
    },
    {
      "cell_type": "code",
      "source": [
        "a.sort(key = lambda  x:x[1])\n",
        "print(a)"
      ],
      "metadata": {
        "colab": {
          "base_uri": "https://localhost:8080/"
        },
        "id": "khFVMorgmwXQ",
        "outputId": "a6db546d-064d-493d-8bf5-cfa44bcfe559"
      },
      "execution_count": 5,
      "outputs": [
        {
          "output_type": "stream",
          "name": "stdout",
          "text": [
            "[(7, 1), (2, 2), (3, 4), (5, 9)]\n"
          ]
        }
      ]
    }
  ]
}