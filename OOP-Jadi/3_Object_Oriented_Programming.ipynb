{
  "nbformat": 4,
  "nbformat_minor": 0,
  "metadata": {
    "colab": {
      "name": "3-Object-Oriented-Programming.ipynb",
      "provenance": [],
      "collapsed_sections": [],
      "toc_visible": true,
      "authorship_tag": "ABX9TyNJfDzbCbsRMOEXWlvEXNpW",
      "include_colab_link": true
    },
    "kernelspec": {
      "name": "python3",
      "display_name": "Python 3"
    },
    "language_info": {
      "name": "python"
    }
  },
  "cells": [
    {
      "cell_type": "markdown",
      "metadata": {
        "id": "view-in-github",
        "colab_type": "text"
      },
      "source": [
        "<a href=\"https://colab.research.google.com/github/mohakhalili/Advaced-Python/blob/main/OOP-Jadi/3_Object_Oriented_Programming.ipynb\" target=\"_parent\"><img src=\"https://colab.research.google.com/assets/colab-badge.svg\" alt=\"Open In Colab\"/></a>"
      ]
    },
    {
      "cell_type": "markdown",
      "source": [
        "# Concept"
      ],
      "metadata": {
        "id": "TgO6WDcUa7AY"
      }
    },
    {
      "cell_type": "markdown",
      "source": [
        "Python is build based on object oriented programming 🤪"
      ],
      "metadata": {
        "id": "QLcP3UtA7ErZ"
      }
    },
    {
      "cell_type": "markdown",
      "source": [
        "Object-oriented programming (OOP) is a method of structuring a program by bundling related properties and behaviors into individual objects. 🎯"
      ],
      "metadata": {
        "id": "PIg-0xaE8RKP"
      }
    },
    {
      "cell_type": "markdown",
      "source": [
        "Conceptually, objects are like the components of a system. 🧑"
      ],
      "metadata": {
        "id": "PtYqaqcbI-rN"
      }
    },
    {
      "cell_type": "markdown",
      "source": [
        "# What Is Object-Oriented Programming in Python?"
      ],
      "metadata": {
        "id": "63_mC-aATuJy"
      }
    },
    {
      "cell_type": "markdown",
      "source": [
        "Object-oriented programming is a programming paradigm that provides a means of structuring programs so that properties and behaviors are bundled into individual objects. ❓"
      ],
      "metadata": {
        "id": "4vpF6Q6uJ93O"
      }
    },
    {
      "cell_type": "markdown",
      "source": [
        "For instance, an object could represent a person with properties like a name, age, and address and behaviors such as walking, talking, breathing, and running. ⬇"
      ],
      "metadata": {
        "id": "ZovT6CN_KFLy"
      }
    },
    {
      "cell_type": "code",
      "source": [
        "class person:\n",
        "  count = 0\n",
        "  def __init__(self, name, age, address):\n",
        "    self.name = name\n",
        "    self.age = age\n",
        "    self. address = address\n",
        "  \n",
        "  def walking(self):\n",
        "    pass\n",
        "\n",
        "  def talking(self):\n",
        "    pass\n",
        "  \n",
        "  def breathing(self):\n",
        "    pass\n",
        "  \n",
        "  def running(self):\n",
        "    pass"
      ],
      "metadata": {
        "id": "e4Ngz2VHKGtU"
      },
      "execution_count": 4,
      "outputs": []
    },
    {
      "cell_type": "markdown",
      "source": [
        "object-oriented programming is an approach for modeling concrete, real-world things, like **cars**, as well as **relations** between things, like *companies and employees*, *students and teachers*, and so on. ⚡"
      ],
      "metadata": {
        "id": "0w8fR30BLPvv"
      }
    },
    {
      "cell_type": "markdown",
      "source": [
        "Object-oriented programming **VS** procedural programming\n",
        "\n",
        "**Procedural programming** structures a program like a recipe in that it provides a *set of steps*, in the form of *functions and code blocks*, that *flow sequentially* in order to complete a task. ⛽"
      ],
      "metadata": {
        "id": "Zoc4_FbdLhUC"
      }
    },
    {
      "cell_type": "markdown",
      "source": [
        "Objects are at the center of object-oriented programming in Python, not only representing the data\n",
        "\n",
        "But ⤵\n",
        "\n",
        "In procedural programming, Objects are in the overall structure of the program as well."
      ],
      "metadata": {
        "id": "FxtDO0kkMbPi"
      }
    },
    {
      "cell_type": "markdown",
      "source": [
        "# Define a Class in Python"
      ],
      "metadata": {
        "id": "q7gw6UmuT6K_"
      }
    },
    {
      "cell_type": "markdown",
      "source": [
        "For example, let’s say you want to track employees in an organization. You need to store some basic information about each employee, such as their name, age, position, and the year they started working.\n",
        "\n",
        "One way to do this is to represent each employee as a list: ( ▶ procedural programming 🔽 )"
      ],
      "metadata": {
        "id": "93ky1CZpNBIB"
      }
    },
    {
      "cell_type": "code",
      "source": [
        "kirk = [\"James Kirk\", 34, \"Captain\", 2010]\n",
        "spock = [\"Spock\", 35, \"Science Officer\", 2014]\n",
        "mccoy = [\"Leonard McCoy\", \"Chief Medical Officer\", 2016]"
      ],
      "metadata": {
        "id": "4YwSNAvfNROC"
      },
      "execution_count": 3,
      "outputs": []
    },
    {
      "cell_type": "markdown",
      "source": [
        "There are a **number of issues** with this approach.\n",
        "\n",
        "**First**, it can make larger code files more difficult to manage. If you reference `kirk[0]` several lines away from where the kirk list is declared, Will you remember that the element with index 0 is the employee’s name? ▶ No\n",
        "\n",
        "**Second**, it can introduce errors if not every employee has the same number of elements in the list. In the mccoy list above, the age is missing, so `mccoy[1]` will return \"Chief Medical Officer\" instead of Dr. McCoy’s age.\n",
        "\n",
        "SO 🔽"
      ],
      "metadata": {
        "id": "ceDY9UExNxGn"
      }
    },
    {
      "cell_type": "markdown",
      "source": [
        "**A great way to make this type of code more manageable and more maintainable is to use classes.**"
      ],
      "metadata": {
        "id": "xpnEwfPKPomt"
      }
    },
    {
      "cell_type": "markdown",
      "source": [
        "## Classes vs Instances"
      ],
      "metadata": {
        "id": "KbwS_lEvUDSk"
      }
    },
    {
      "cell_type": "markdown",
      "source": [
        "\n",
        "Classes define functions called methods, which identify the behaviors and actions that an object created from the class can perform with its data.\n",
        "\n",
        "Instance is an object that is built from a class and contains real data.\n",
        "\n",
        "*Put another way, * 🔽\n",
        "\n",
        "a class is like a form or questionnaire. An instance is like a form that has been filled out with information. Just like many people can fill out the same form with their own unique information, many instances can be created from a single class."
      ],
      "metadata": {
        "id": "KU34mxsRQG02"
      }
    },
    {
      "cell_type": "markdown",
      "source": [
        "## How to Define a Class\n"
      ],
      "metadata": {
        "id": "sRZhvDI9TapY"
      }
    },
    {
      "cell_type": "markdown",
      "source": [
        "All class definitions start with the class keyword, which is followed by the name of the class and a colon. Any code that is indented below the class definition is considered part of the class’s body."
      ],
      "metadata": {
        "id": "dihHsQ88Yj9i"
      }
    },
    {
      "cell_type": "code",
      "source": [
        "class dog:\n",
        "  pass"
      ],
      "metadata": {
        "id": "ZcZse3XeYjTV"
      },
      "execution_count": 2,
      "outputs": []
    },
    {
      "cell_type": "markdown",
      "source": [
        "The body of the Dog class consists of a single statement: the `pass` keyword. `pass` is often used as a placeholder indicating where code will eventually go. It allows you to run this code without Python throwing an error."
      ],
      "metadata": {
        "id": "KAAbzz-lYwl1"
      }
    },
    {
      "cell_type": "markdown",
      "source": [
        "**Note:** Python class names are written in CapitalizedWords notation by convention. For example, Dog or JackRussellTerrier."
      ],
      "metadata": {
        "id": "uVew_6BnZEkC"
      }
    },
    {
      "cell_type": "markdown",
      "source": [
        "The properties that all Dog objects must have are defined in a method called .__init__(). \n",
        "\n",
        "Every time a new Dog object is created, .__init__() sets the initial state of the object by assigning the values of the object’s properties. \n",
        "\n",
        "That is, .__init__() initializes each new instance of the class.\n",
        "\n",
        "You can give .__init__() any number of parameters, but the first parameter will always be a variable called self. \n",
        "\n",
        "When a new class instance is created, the instance is automatically passed to the self parameter in .__init__() so that new attributes can be defined on the object.\n",
        "\n",
        "Let’s update the Dog class with an .__init__() method that creates .name and .age attributes:"
      ],
      "metadata": {
        "id": "WHTtUIZwaUZ2"
      }
    },
    {
      "cell_type": "code",
      "source": [
        "class Dog:\n",
        "  def __init__(self, name, age):\n",
        "    self.name = name\n",
        "    self.age = age"
      ],
      "metadata": {
        "id": "P89Kjn1VbUWP"
      },
      "execution_count": 1,
      "outputs": []
    },
    {
      "cell_type": "markdown",
      "source": [
        "Notice that the .__init__() method’s signature is indented four spaces. \n",
        "\n",
        "The body of the method is indented by eight spaces.\n",
        "\n",
        "This indentation is vitally important.\n",
        "\n",
        "It tells Python that the .__init__() method belongs to the Dog class."
      ],
      "metadata": {
        "id": "PAW_1NRicZtB"
      }
    },
    {
      "cell_type": "markdown",
      "source": [
        "In the body of .__init__(), there are two statements using the `self` variable:\n",
        "\n",
        "1.   `self.name = name` creates an attribute called name and assigns to it the value of the name parameter.\n",
        "2.   `self.age = age` creates an attribute called age and assigns to it the value of the age parameter."
      ],
      "metadata": {
        "id": "9ItlVJz_cZ-d"
      }
    },
    {
      "cell_type": "markdown",
      "source": [
        "Attributes created in .__init__() are called **instance attributes**.\n",
        "\n",
        "An instance attribute’s value is specific to a particular instance of the class.\n",
        "\n",
        "All Dog objects have a name and an age, but the values for the name and age attributes will vary depending on the Dog instance."
      ],
      "metadata": {
        "id": "b5Ajn0crcaBV"
      }
    },
    {
      "cell_type": "markdown",
      "source": [
        "**Class attributes** are attributes that have the same value for all class instances.\n",
        "\n",
        "You can define a class attribute by assigning a value to a variable name outside of .__init__()."
      ],
      "metadata": {
        "id": "lJxDxxj5caEW"
      }
    },
    {
      "cell_type": "markdown",
      "source": [
        "For example, the following Dog class has a class attribute called `species` with the value `\"Canis familiaris\"`:"
      ],
      "metadata": {
        "id": "Y7nKg4BxcaHN"
      }
    },
    {
      "cell_type": "code",
      "source": [
        "class Dog:\n",
        "    # Class attribute\n",
        "    species = \"Canis familiaris\"\n",
        "\n",
        "    def __init__(self, name, age):\n",
        "        self.name = name\n",
        "        self.age = age"
      ],
      "metadata": {
        "id": "knALu8xGP3UH"
      },
      "execution_count": 5,
      "outputs": []
    },
    {
      "cell_type": "markdown",
      "source": [
        "Class attributes are defined directly beneath the first line of the class name.\n",
        "\n",
        "**They must always be assigned an initial value.**\n",
        "\n",
        "When an instance of the class is created, class attributes are automatically created and assigned to their initial values."
      ],
      "metadata": {
        "id": "ISF4aoYycaKj"
      }
    },
    {
      "cell_type": "markdown",
      "source": [
        "**Use class attributes** to define properties that should have the same value for every class instance.\n",
        "\n",
        "**Use instance attributes** for properties that vary from one instance to another."
      ],
      "metadata": {
        "id": "d2-s8yqEQ43n"
      }
    },
    {
      "cell_type": "markdown",
      "source": [
        "# Instantiate an Object in Python"
      ],
      "metadata": {
        "id": "YDNo-EcPRaCv"
      }
    },
    {
      "cell_type": "markdown",
      "source": [
        "## Class and Instance Attributes"
      ],
      "metadata": {
        "id": "rLGeYC44Rkyz"
      }
    },
    {
      "cell_type": "markdown",
      "source": [
        "## Instance Methods"
      ],
      "metadata": {
        "id": "hH-63epwR4-V"
      }
    },
    {
      "cell_type": "markdown",
      "source": [
        "## Check Your Understanding"
      ],
      "metadata": {
        "id": "74wGDZjDR6Q4"
      }
    },
    {
      "cell_type": "markdown",
      "source": [
        "# Inherit From Other Classes in Python"
      ],
      "metadata": {
        "id": "lzPe39e3RaPS"
      }
    },
    {
      "cell_type": "markdown",
      "source": [
        "## Dog Park Example"
      ],
      "metadata": {
        "id": "X2OPifSoRabq"
      }
    },
    {
      "cell_type": "markdown",
      "source": [
        "## Parent Classes vs Child Classes"
      ],
      "metadata": {
        "id": "XGRYkeeZSCRZ"
      }
    },
    {
      "cell_type": "markdown",
      "source": [
        "## Extend the Functionality of a Parent Class"
      ],
      "metadata": {
        "id": "9EjdBh-XSGNF"
      }
    },
    {
      "cell_type": "markdown",
      "source": [
        "## Check Your Understanding"
      ],
      "metadata": {
        "id": "YQ6JwdVPSJhy"
      }
    },
    {
      "cell_type": "markdown",
      "source": [
        "# Conclusion"
      ],
      "metadata": {
        "id": "9DT1imRcSQfg"
      }
    },
    {
      "cell_type": "markdown",
      "source": [
        "In this tutorial, you learned how to:\n",
        "\n",
        "1.   Define a class, which is a sort of blueprint for an object\n",
        "2.   Instantiate an object from a class\n",
        "3.   Use attributes and methods to define the properties and behaviors of an object\n",
        "4.   Use inheritance to create child classes from a parent class\n",
        "5.   Reference a method on a parent class using super()\n",
        "6.   Check if an object inherits from another class using isinstance()"
      ],
      "metadata": {
        "id": "nHYtuz9pSV7B"
      }
    },
    {
      "cell_type": "markdown",
      "source": [
        "ex: let's build an university class"
      ],
      "metadata": {
        "id": "ru1_nLO4FLgF"
      }
    },
    {
      "cell_type": "code",
      "source": [
        "class person:\n",
        "    # class variables:\n",
        "    count = 0\n",
        "\n",
        "    # init method means starter method\n",
        "    # in python, when we are working with methods in a class, \n",
        "    #  I always set a 'self' at first \n",
        "    \n",
        "    # If anyone want to make a person, should give me name and age\n",
        "    def __init__(self, name, age):\n",
        "        # self mention to this object\n",
        "        # We build a class named person, \n",
        "        # and then we say Mohammad for example is a person, \n",
        "        # self mention to Mohammad\n",
        "        self.name = name\n",
        "        self.age = age\n",
        "        person.count = person.count + 1\n",
        "\n",
        "    def get_name(self):\n",
        "        print('name is %s' % self.name )\n",
        "\n",
        "    def get_age(self):\n",
        "        print('age is %s' % self.age)\n",
        "\n",
        "    def get_info(self):\n",
        "        print('name is %s and age is %i' % (self.name, self.age))\n",
        "\n",
        "    def birthday(self):\n",
        "        self.age = self.age + 1\n",
        "        print('happy birthday %s' % self.name, ', your age is %s now' %self.age)\n",
        "\n",
        "    def return_count(self):\n",
        "        return (person.count)"
      ],
      "metadata": {
        "id": "2dQrHXZ7FFEm"
      },
      "execution_count": null,
      "outputs": []
    },
    {
      "cell_type": "code",
      "source": [
        "Mohammad = person('Mohammad',28)"
      ],
      "metadata": {
        "id": "aoLrjgnlaPRY"
      },
      "execution_count": null,
      "outputs": []
    },
    {
      "cell_type": "code",
      "source": [
        "Mohammad.get_name()"
      ],
      "metadata": {
        "colab": {
          "base_uri": "https://localhost:8080/"
        },
        "id": "NqogN8ZAaq03",
        "outputId": "5410ca3e-05e1-456f-916c-488c257cb136"
      },
      "execution_count": null,
      "outputs": [
        {
          "output_type": "stream",
          "name": "stdout",
          "text": [
            "name is Mohammad\n"
          ]
        }
      ]
    },
    {
      "cell_type": "code",
      "source": [
        "Mohammad.get_age()"
      ],
      "metadata": {
        "colab": {
          "base_uri": "https://localhost:8080/"
        },
        "id": "t28eO3KVau7W",
        "outputId": "6df4927e-62c7-455c-d28c-f63da76ad70f"
      },
      "execution_count": null,
      "outputs": [
        {
          "output_type": "stream",
          "name": "stdout",
          "text": [
            "age is 29\n"
          ]
        }
      ]
    },
    {
      "cell_type": "code",
      "source": [
        "Mohammad.get_info()"
      ],
      "metadata": {
        "colab": {
          "base_uri": "https://localhost:8080/"
        },
        "id": "kH2pi7Cbaaf6",
        "outputId": "bab2d8c0-2886-491f-e400-94d421389ae3"
      },
      "execution_count": null,
      "outputs": [
        {
          "output_type": "stream",
          "name": "stdout",
          "text": [
            "name is Mohammad and age is 28\n"
          ]
        }
      ]
    },
    {
      "cell_type": "code",
      "source": [
        "Mohammad.birthday()\n"
      ],
      "metadata": {
        "colab": {
          "base_uri": "https://localhost:8080/"
        },
        "id": "AQ8mfzx4adYH",
        "outputId": "896da9d2-23d1-49c8-f7a1-184ea2b168f7"
      },
      "execution_count": null,
      "outputs": [
        {
          "output_type": "stream",
          "name": "stdout",
          "text": [
            "happy birthday Mohammad , your age is 29 now\n"
          ]
        }
      ]
    },
    {
      "cell_type": "code",
      "source": [
        "Manooch = person('manoochehr', 12)"
      ],
      "metadata": {
        "id": "otWhBjg-akgO"
      },
      "execution_count": null,
      "outputs": []
    },
    {
      "cell_type": "code",
      "source": [
        "Manooch.get_info()"
      ],
      "metadata": {
        "colab": {
          "base_uri": "https://localhost:8080/"
        },
        "id": "DUTU7n4qamW7",
        "outputId": "34fc9386-4218-4138-ffcf-5ccc2de8ef29"
      },
      "execution_count": null,
      "outputs": [
        {
          "output_type": "stream",
          "name": "stdout",
          "text": [
            "name is manoochehr and age is 12\n"
          ]
        }
      ]
    },
    {
      "cell_type": "code",
      "source": [
        "print('at the moment I have %i persons' % Manooch.return_count())"
      ],
      "metadata": {
        "colab": {
          "base_uri": "https://localhost:8080/"
        },
        "id": "KndJIXJta0FZ",
        "outputId": "032ff5c5-ed1f-4da1-b104-2633f1265c04"
      },
      "execution_count": null,
      "outputs": [
        {
          "output_type": "stream",
          "name": "stdout",
          "text": [
            "at the moment I have 2 persons\n"
          ]
        }
      ]
    },
    {
      "cell_type": "markdown",
      "source": [
        "## References\n",
        "\n",
        "[real python](https://realpython.com/tutorials/all/\n",
        ")\n",
        "\n",
        "[OOP real python](https://realpython.com/learning-paths/object-oriented-programming-oop-python/\n",
        ")\n",
        "\n",
        "[OOP in python3](https://realpython.com/python3-object-oriented-programming/)"
      ],
      "metadata": {
        "id": "OX5Nkj1f8PyB"
      }
    }
  ]
}