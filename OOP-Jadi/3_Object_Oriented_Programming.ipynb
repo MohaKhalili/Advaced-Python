{
  "nbformat": 4,
  "nbformat_minor": 0,
  "metadata": {
    "colab": {
      "name": "3-Object-Oriented-Programming.ipynb",
      "provenance": [],
      "collapsed_sections": [],
      "toc_visible": true,
      "authorship_tag": "ABX9TyN+nKRifuHIMerV6LjSfFXB",
      "include_colab_link": true
    },
    "kernelspec": {
      "name": "python3",
      "display_name": "Python 3"
    },
    "language_info": {
      "name": "python"
    }
  },
  "cells": [
    {
      "cell_type": "markdown",
      "metadata": {
        "id": "view-in-github",
        "colab_type": "text"
      },
      "source": [
        "<a href=\"https://colab.research.google.com/github/mohakhalili/Advaced-Python/blob/main/OOP-Jadi/3_Object_Oriented_Programming.ipynb\" target=\"_parent\"><img src=\"https://colab.research.google.com/assets/colab-badge.svg\" alt=\"Open In Colab\"/></a>"
      ]
    },
    {
      "cell_type": "markdown",
      "source": [
        "# Concept"
      ],
      "metadata": {
        "id": "TgO6WDcUa7AY"
      }
    },
    {
      "cell_type": "markdown",
      "source": [
        "Python is build based on object oriented programming 🤪"
      ],
      "metadata": {
        "id": "QLcP3UtA7ErZ"
      }
    },
    {
      "cell_type": "markdown",
      "source": [
        "Object-oriented programming (OOP) is a method of structuring a program by bundling related properties and behaviors into individual objects. 🎯"
      ],
      "metadata": {
        "id": "PIg-0xaE8RKP"
      }
    },
    {
      "cell_type": "markdown",
      "source": [
        "Conceptually, objects are like the components of a system. 🧑"
      ],
      "metadata": {
        "id": "PtYqaqcbI-rN"
      }
    },
    {
      "cell_type": "markdown",
      "source": [
        "# What Is Object-Oriented Programming in Python?"
      ],
      "metadata": {
        "id": "63_mC-aATuJy"
      }
    },
    {
      "cell_type": "markdown",
      "source": [
        "Object-oriented programming is a programming paradigm that provides a means of structuring programs so that properties and behaviors are bundled into individual objects. ❓"
      ],
      "metadata": {
        "id": "4vpF6Q6uJ93O"
      }
    },
    {
      "cell_type": "markdown",
      "source": [
        "For instance, an object could represent a person with properties like a name, age, and address and behaviors such as walking, talking, breathing, and running. ⬇"
      ],
      "metadata": {
        "id": "ZovT6CN_KFLy"
      }
    },
    {
      "cell_type": "code",
      "source": [
        "class person:\n",
        "  count = 0\n",
        "  def __init__(self, name, age, address):\n",
        "    self.name = name\n",
        "    self.age = age\n",
        "    self. address = address\n",
        "  \n",
        "  def walking(self):\n",
        "    pass\n",
        "\n",
        "  def talking(self):\n",
        "    pass\n",
        "  \n",
        "  def breathing(self):\n",
        "    pass\n",
        "  \n",
        "  def running(self):\n",
        "    pass"
      ],
      "metadata": {
        "id": "e4Ngz2VHKGtU"
      },
      "execution_count": 46,
      "outputs": []
    },
    {
      "cell_type": "markdown",
      "source": [
        "object-oriented programming is an approach for modeling concrete, real-world things, like **cars**, as well as **relations** between things, like *companies and employees*, *students and teachers*, and so on. ⚡"
      ],
      "metadata": {
        "id": "0w8fR30BLPvv"
      }
    },
    {
      "cell_type": "markdown",
      "source": [
        "Object-oriented programming **VS** procedural programming\n",
        "\n",
        "**Procedural programming** structures a program like a recipe in that it provides a *set of steps*, in the form of *functions and code blocks*, that *flow sequentially* in order to complete a task. ⛽"
      ],
      "metadata": {
        "id": "Zoc4_FbdLhUC"
      }
    },
    {
      "cell_type": "markdown",
      "source": [
        "Objects are at the center of object-oriented programming in Python, not only representing the data\n",
        "\n",
        "But ⤵\n",
        "\n",
        "In procedural programming, Objects are in the overall structure of the program as well."
      ],
      "metadata": {
        "id": "FxtDO0kkMbPi"
      }
    },
    {
      "cell_type": "markdown",
      "source": [
        "# Define a Class in Python"
      ],
      "metadata": {
        "id": "q7gw6UmuT6K_"
      }
    },
    {
      "cell_type": "markdown",
      "source": [
        "For example, let’s say you want to track employees in an organization. You need to store some basic information about each employee, such as their name, age, position, and the year they started working.\n",
        "\n",
        "One way to do this is to represent each employee as a list: ( ▶ procedural programming 🔽 )"
      ],
      "metadata": {
        "id": "93ky1CZpNBIB"
      }
    },
    {
      "cell_type": "code",
      "source": [
        "kirk = [\"James Kirk\", 34, \"Captain\", 2010]\n",
        "spock = [\"Spock\", 35, \"Science Officer\", 2014]\n",
        "mccoy = [\"Leonard McCoy\", \"Chief Medical Officer\", 2016]"
      ],
      "metadata": {
        "id": "4YwSNAvfNROC"
      },
      "execution_count": 47,
      "outputs": []
    },
    {
      "cell_type": "markdown",
      "source": [
        "There are a **number of issues** with this approach.\n",
        "\n",
        "**First**, it can make larger code files more difficult to manage. If you reference `kirk[0]` several lines away from where the kirk list is declared, Will you remember that the element with index 0 is the employee’s name? ▶ No\n",
        "\n",
        "**Second**, it can introduce errors if not every employee has the same number of elements in the list. In the mccoy list above, the age is missing, so `mccoy[1]` will return \"Chief Medical Officer\" instead of Dr. McCoy’s age.\n",
        "\n",
        "SO 🔽"
      ],
      "metadata": {
        "id": "ceDY9UExNxGn"
      }
    },
    {
      "cell_type": "markdown",
      "source": [
        "**A great way to make this type of code more manageable and more maintainable is to use classes.**"
      ],
      "metadata": {
        "id": "xpnEwfPKPomt"
      }
    },
    {
      "cell_type": "markdown",
      "source": [
        "## Classes vs Instances"
      ],
      "metadata": {
        "id": "KbwS_lEvUDSk"
      }
    },
    {
      "cell_type": "markdown",
      "source": [
        "\n",
        "Classes define functions called methods, which identify the behaviors and actions that an object created from the class can perform with its data.\n",
        "\n",
        "Instance is an object that is built from a class and contains real data.\n",
        "\n",
        "*Put another way, * 🔽\n",
        "\n",
        "a class is like a form or questionnaire. An instance is like a form that has been filled out with information. Just like many people can fill out the same form with their own unique information, many instances can be created from a single class."
      ],
      "metadata": {
        "id": "KU34mxsRQG02"
      }
    },
    {
      "cell_type": "markdown",
      "source": [
        "## How to Define a Class\n"
      ],
      "metadata": {
        "id": "sRZhvDI9TapY"
      }
    },
    {
      "cell_type": "markdown",
      "source": [
        "All class definitions start with the class keyword, which is followed by the name of the class and a colon. Any code that is indented below the class definition is considered part of the class’s body."
      ],
      "metadata": {
        "id": "dihHsQ88Yj9i"
      }
    },
    {
      "cell_type": "code",
      "source": [
        "class dog:\n",
        "  pass"
      ],
      "metadata": {
        "id": "ZcZse3XeYjTV"
      },
      "execution_count": 48,
      "outputs": []
    },
    {
      "cell_type": "markdown",
      "source": [
        "The body of the Dog class consists of a single statement: the `pass` keyword. `pass` is often used as a placeholder indicating where code will eventually go. It allows you to run this code without Python throwing an error."
      ],
      "metadata": {
        "id": "KAAbzz-lYwl1"
      }
    },
    {
      "cell_type": "markdown",
      "source": [
        "**Note:** Python class names are written in CapitalizedWords notation by convention. For example, Dog or JackRussellTerrier."
      ],
      "metadata": {
        "id": "uVew_6BnZEkC"
      }
    },
    {
      "cell_type": "markdown",
      "source": [
        "The properties that all Dog objects must have are defined in a method called .__init__(). \n",
        "\n",
        "Every time a new Dog object is created, .__init__() sets the initial state of the object by assigning the values of the object’s properties. \n",
        "\n",
        "That is, .__init__() initializes each new instance of the class.\n",
        "\n",
        "You can give .__init__() any number of parameters, but the first parameter will always be a variable called self. \n",
        "\n",
        "When a new class instance is created, the instance is automatically passed to the self parameter in .__init__() so that new attributes can be defined on the object.\n",
        "\n",
        "Let’s update the Dog class with an .__init__() method that creates .name and .age attributes:"
      ],
      "metadata": {
        "id": "WHTtUIZwaUZ2"
      }
    },
    {
      "cell_type": "code",
      "source": [
        "class Dog:\n",
        "  def __init__(self, name, age):\n",
        "    self.name = name\n",
        "    self.age = age"
      ],
      "metadata": {
        "id": "P89Kjn1VbUWP"
      },
      "execution_count": 49,
      "outputs": []
    },
    {
      "cell_type": "markdown",
      "source": [
        "Notice that the .__init__() method’s signature is indented four spaces. \n",
        "\n",
        "The body of the method is indented by eight spaces.\n",
        "\n",
        "This indentation is vitally important.\n",
        "\n",
        "It tells Python that the .__init__() method belongs to the Dog class."
      ],
      "metadata": {
        "id": "PAW_1NRicZtB"
      }
    },
    {
      "cell_type": "markdown",
      "source": [
        "In the body of .__init__(), there are two statements using the `self` variable:\n",
        "\n",
        "1.   `self.name = name` creates an attribute called name and assigns to it the value of the name parameter.\n",
        "2.   `self.age = age` creates an attribute called age and assigns to it the value of the age parameter."
      ],
      "metadata": {
        "id": "9ItlVJz_cZ-d"
      }
    },
    {
      "cell_type": "markdown",
      "source": [
        "Attributes created in .__init__() are called **instance attributes**.\n",
        "\n",
        "An instance attribute’s value is specific to a particular instance of the class.\n",
        "\n",
        "All Dog objects have a name and an age, but the values for the name and age attributes will vary depending on the Dog instance."
      ],
      "metadata": {
        "id": "b5Ajn0crcaBV"
      }
    },
    {
      "cell_type": "markdown",
      "source": [
        "**Class attributes** are attributes that have the same value for all class instances.\n",
        "\n",
        "You can define a class attribute by assigning a value to a variable name outside of .__init__()."
      ],
      "metadata": {
        "id": "lJxDxxj5caEW"
      }
    },
    {
      "cell_type": "markdown",
      "source": [
        "For example, the following Dog class has a class attribute called `species` with the value `\"Canis familiaris\"`:"
      ],
      "metadata": {
        "id": "Y7nKg4BxcaHN"
      }
    },
    {
      "cell_type": "code",
      "source": [
        "class Dog:\n",
        "    # Class attribute\n",
        "    species = \"Canis familiaris\"\n",
        "\n",
        "    def __init__(self, name, age):\n",
        "        self.name = name\n",
        "        self.age = age"
      ],
      "metadata": {
        "id": "knALu8xGP3UH"
      },
      "execution_count": 50,
      "outputs": []
    },
    {
      "cell_type": "markdown",
      "source": [
        "Class attributes are defined directly beneath the first line of the class name.\n",
        "\n",
        "**They must always be assigned an initial value.**\n",
        "\n",
        "When an instance of the class is created, class attributes are automatically created and assigned to their initial values."
      ],
      "metadata": {
        "id": "ISF4aoYycaKj"
      }
    },
    {
      "cell_type": "markdown",
      "source": [
        "**Use class attributes** to define properties that should have the same value for every class instance.\n",
        "\n",
        "**Use instance attributes** for properties that vary from one instance to another."
      ],
      "metadata": {
        "id": "d2-s8yqEQ43n"
      }
    },
    {
      "cell_type": "markdown",
      "source": [
        "# Instantiate an Object in Python"
      ],
      "metadata": {
        "id": "YDNo-EcPRaCv"
      }
    },
    {
      "cell_type": "code",
      "source": [
        "class Dog:\n",
        "  pass"
      ],
      "metadata": {
        "id": "yxIolkphVFK3"
      },
      "execution_count": 51,
      "outputs": []
    },
    {
      "cell_type": "markdown",
      "source": [
        "This creates a new Dog class with no attributes or methods."
      ],
      "metadata": {
        "id": "VKqojOUWVBuv"
      }
    },
    {
      "cell_type": "markdown",
      "source": [
        "Creating a new object from a class is called instantiating an object. \n",
        "\n",
        "You can instantiate a new Dog object by typing the name of the class, followed by opening and closing parentheses: 🔽"
      ],
      "metadata": {
        "id": "O3yMS-kFVPWx"
      }
    },
    {
      "cell_type": "code",
      "source": [
        "Dog()"
      ],
      "metadata": {
        "colab": {
          "base_uri": "https://localhost:8080/"
        },
        "id": "Y79D3P06VajT",
        "outputId": "53b7f325-5984-4e6a-b095-9840267f2bff"
      },
      "execution_count": 52,
      "outputs": [
        {
          "output_type": "execute_result",
          "data": {
            "text/plain": [
              "<__main__.Dog at 0x7f180c142810>"
            ]
          },
          "metadata": {},
          "execution_count": 52
        }
      ]
    },
    {
      "cell_type": "markdown",
      "source": [
        "You now have a new Dog object at `0x7f180c131d50`. \n",
        "\n",
        "This funny-looking string of letters and numbers is a memory address that indicates where the Dog object is stored in your computer’s memory. \n",
        "\n",
        "**Note** that the address you see on your screen will be different."
      ],
      "metadata": {
        "id": "nPKHRoIrVkOw"
      }
    },
    {
      "cell_type": "markdown",
      "source": [
        "Now instantiate a second Dog object: 🔽"
      ],
      "metadata": {
        "id": "_3fphidDVyWQ"
      }
    },
    {
      "cell_type": "code",
      "source": [
        "Dog()"
      ],
      "metadata": {
        "colab": {
          "base_uri": "https://localhost:8080/"
        },
        "id": "e4fiPH73V2MJ",
        "outputId": "ef4e7dcd-2788-4ac1-f44c-0ab33f9ea9f7"
      },
      "execution_count": 53,
      "outputs": [
        {
          "output_type": "execute_result",
          "data": {
            "text/plain": [
              "<__main__.Dog at 0x7f180c07c950>"
            ]
          },
          "metadata": {},
          "execution_count": 53
        }
      ]
    },
    {
      "cell_type": "markdown",
      "source": [
        "The new Dog instance is located at a different memory address. \n",
        "\n",
        "That’s because it’s an entirely **new instance** and is completely **unique** from the first Dog object that you instantiated."
      ],
      "metadata": {
        "id": "Tr8qx3cdV1HO"
      }
    },
    {
      "cell_type": "markdown",
      "source": [
        "To see this another way, type the following: 🔽"
      ],
      "metadata": {
        "id": "og5IRSqnWRts"
      }
    },
    {
      "cell_type": "code",
      "source": [
        "a = Dog()\n",
        "b = Dog()\n",
        "a == b"
      ],
      "metadata": {
        "colab": {
          "base_uri": "https://localhost:8080/"
        },
        "id": "EGVjTvvqWU6q",
        "outputId": "6435e112-a39f-41e2-bbb8-0eaca8690fb9"
      },
      "execution_count": 54,
      "outputs": [
        {
          "output_type": "execute_result",
          "data": {
            "text/plain": [
              "False"
            ]
          },
          "metadata": {},
          "execution_count": 54
        }
      ]
    },
    {
      "cell_type": "markdown",
      "source": [
        "In this code, you create two new Dog objects and assign them to the variables a and b.\n",
        "\n",
        "When you compare a and b using the == operator, the result is False.\n",
        "\n",
        "Even though a and b are both instances of the Dog class, they represent **two distinct objects** in memory."
      ],
      "metadata": {
        "id": "agKjmEFOWfLK"
      }
    },
    {
      "cell_type": "markdown",
      "source": [
        "## Class and Instance Attributes"
      ],
      "metadata": {
        "id": "rLGeYC44Rkyz"
      }
    },
    {
      "cell_type": "markdown",
      "source": [
        "Now create a new Dog class with a class attribute called `.species` and two instance attributes called `.name` and `.age`:"
      ],
      "metadata": {
        "id": "tOF9sHPyXKpD"
      }
    },
    {
      "cell_type": "code",
      "source": [
        "class Dog():\n",
        "  species = \"Canis familiaris\"\n",
        "  def __init__(self, name, age):\n",
        "    self.name = name\n",
        "    self.age = age"
      ],
      "metadata": {
        "id": "epqFvl0bXg3J"
      },
      "execution_count": 55,
      "outputs": []
    },
    {
      "cell_type": "markdown",
      "source": [
        "To instantiate objects of this Dog class, you need to provide values for the name and age.\n",
        "\n",
        "If you don’t, then Python raises a `TypeError`:"
      ],
      "metadata": {
        "id": "4wzZSgXfYEhi"
      }
    },
    {
      "cell_type": "code",
      "source": [
        "Dog()"
      ],
      "metadata": {
        "colab": {
          "base_uri": "https://localhost:8080/",
          "height": 166
        },
        "id": "0dyJCaXFYJ7I",
        "outputId": "3d9c1a79-0de6-46da-c00b-399a4d0645ff"
      },
      "execution_count": 56,
      "outputs": [
        {
          "output_type": "error",
          "ename": "TypeError",
          "evalue": "ignored",
          "traceback": [
            "\u001b[0;31m---------------------------------------------------------------------------\u001b[0m",
            "\u001b[0;31mTypeError\u001b[0m                                 Traceback (most recent call last)",
            "\u001b[0;32m<ipython-input-56-2dced99f65a6>\u001b[0m in \u001b[0;36m<module>\u001b[0;34m()\u001b[0m\n\u001b[0;32m----> 1\u001b[0;31m \u001b[0mDog\u001b[0m\u001b[0;34m(\u001b[0m\u001b[0;34m)\u001b[0m\u001b[0;34m\u001b[0m\u001b[0;34m\u001b[0m\u001b[0m\n\u001b[0m",
            "\u001b[0;31mTypeError\u001b[0m: __init__() missing 2 required positional arguments: 'name' and 'age'"
          ]
        }
      ]
    },
    {
      "cell_type": "markdown",
      "source": [
        "To pass arguments to the name and age parameters, put values into the parentheses after the class name: 🔽"
      ],
      "metadata": {
        "id": "CIRUvg43YPBB"
      }
    },
    {
      "cell_type": "code",
      "source": [
        "buddy = Dog(\"Buddy\", 9)\n",
        "miles = Dog(\"Miles\", 4)"
      ],
      "metadata": {
        "id": "Hro0wCbjYL9s"
      },
      "execution_count": 57,
      "outputs": []
    },
    {
      "cell_type": "markdown",
      "source": [
        "This 🔼 creates two new Dog instances—one for a **nine-year-old dog named Buddy** and one for a **four-year-old dog named Miles**."
      ],
      "metadata": {
        "id": "JmIkNahXYi8Q"
      }
    },
    {
      "cell_type": "markdown",
      "source": [
        "The Dog class’s .__init__() method has **three parameters**, so why are only two arguments passed to it in the example ❓ answer 🔽"
      ],
      "metadata": {
        "id": "9-ClE-DfghRf"
      }
    },
    {
      "cell_type": "markdown",
      "source": [
        "When you instantiate a Dog object, Python creates a new instance and passes it to the first parameter of .__init__(). \n",
        "\n",
        "This essentially removes the self parameter, so you only need to worry about the name and age parameters."
      ],
      "metadata": {
        "id": "-IbU2oM2gr6R"
      }
    },
    {
      "cell_type": "markdown",
      "source": [
        "After you create the Dog instances, you can access their instance attributes using **dot notation**: ⏬"
      ],
      "metadata": {
        "id": "SrejOZytg6C0"
      }
    },
    {
      "cell_type": "code",
      "source": [
        "buddy.name"
      ],
      "metadata": {
        "colab": {
          "base_uri": "https://localhost:8080/",
          "height": 35
        },
        "id": "2JAQF32khV8L",
        "outputId": "1144f28f-34bb-4900-b27b-2790be925420"
      },
      "execution_count": 58,
      "outputs": [
        {
          "output_type": "execute_result",
          "data": {
            "application/vnd.google.colaboratory.intrinsic+json": {
              "type": "string"
            },
            "text/plain": [
              "'Buddy'"
            ]
          },
          "metadata": {},
          "execution_count": 58
        }
      ]
    },
    {
      "cell_type": "code",
      "source": [
        "buddy.age"
      ],
      "metadata": {
        "colab": {
          "base_uri": "https://localhost:8080/"
        },
        "id": "Vsai2cyahbVk",
        "outputId": "ca85bb50-8992-42c1-d5c1-4e9cf859e81e"
      },
      "execution_count": 59,
      "outputs": [
        {
          "output_type": "execute_result",
          "data": {
            "text/plain": [
              "9"
            ]
          },
          "metadata": {},
          "execution_count": 59
        }
      ]
    },
    {
      "cell_type": "code",
      "source": [
        "miles.name"
      ],
      "metadata": {
        "colab": {
          "base_uri": "https://localhost:8080/",
          "height": 35
        },
        "id": "HbsG2dzlhcom",
        "outputId": "b79a7098-ff3e-4360-bd07-ed95e187d258"
      },
      "execution_count": 60,
      "outputs": [
        {
          "output_type": "execute_result",
          "data": {
            "application/vnd.google.colaboratory.intrinsic+json": {
              "type": "string"
            },
            "text/plain": [
              "'Miles'"
            ]
          },
          "metadata": {},
          "execution_count": 60
        }
      ]
    },
    {
      "cell_type": "code",
      "source": [
        "miles.age"
      ],
      "metadata": {
        "colab": {
          "base_uri": "https://localhost:8080/"
        },
        "id": "uf-BW2IKheia",
        "outputId": "8b5db26d-85ad-4c59-cbdf-a6b8ece679ba"
      },
      "execution_count": 61,
      "outputs": [
        {
          "output_type": "execute_result",
          "data": {
            "text/plain": [
              "4"
            ]
          },
          "metadata": {},
          "execution_count": 61
        }
      ]
    },
    {
      "cell_type": "markdown",
      "source": [
        "You can access **class attributes** the same way:"
      ],
      "metadata": {
        "id": "LsJ5Ul8vhizR"
      }
    },
    {
      "cell_type": "code",
      "source": [
        "buddy.species"
      ],
      "metadata": {
        "colab": {
          "base_uri": "https://localhost:8080/",
          "height": 35
        },
        "id": "1DX-EiJPhllq",
        "outputId": "c2336e59-bbb8-49e9-c928-9b386d1b7e49"
      },
      "execution_count": 62,
      "outputs": [
        {
          "output_type": "execute_result",
          "data": {
            "application/vnd.google.colaboratory.intrinsic+json": {
              "type": "string"
            },
            "text/plain": [
              "'Canis familiaris'"
            ]
          },
          "metadata": {},
          "execution_count": 62
        }
      ]
    },
    {
      "cell_type": "markdown",
      "source": [
        "One of the biggest advantages of using classes to organize data is that **instances are guaranteed to have the attributes you expect**.\n",
        "\n",
        "All Dog instances have **.species**, **.name**, and **.age attributes**, so you can use those attributes with confidence knowing that they will always return a value."
      ],
      "metadata": {
        "id": "Nvruf9FIhtmA"
      }
    },
    {
      "cell_type": "markdown",
      "source": [
        "Although the attributes are guaranteed to exist, their values can be changed dynamically: 🔽"
      ],
      "metadata": {
        "id": "BVpyT6BTiOUC"
      }
    },
    {
      "cell_type": "code",
      "source": [
        "buddy.age"
      ],
      "metadata": {
        "colab": {
          "base_uri": "https://localhost:8080/"
        },
        "id": "qFxnGvqhiQ5A",
        "outputId": "9fb0fa66-dcaf-45f5-c6d4-f6fd85055729"
      },
      "execution_count": 63,
      "outputs": [
        {
          "output_type": "execute_result",
          "data": {
            "text/plain": [
              "9"
            ]
          },
          "metadata": {},
          "execution_count": 63
        }
      ]
    },
    {
      "cell_type": "code",
      "source": [
        "buddy.age = 10\n",
        "buddy.age"
      ],
      "metadata": {
        "colab": {
          "base_uri": "https://localhost:8080/"
        },
        "id": "AXBw12dkiWoq",
        "outputId": "920d9e51-b850-478e-a0d2-da2d9db6034b"
      },
      "execution_count": 64,
      "outputs": [
        {
          "output_type": "execute_result",
          "data": {
            "text/plain": [
              "10"
            ]
          },
          "metadata": {},
          "execution_count": 64
        }
      ]
    },
    {
      "cell_type": "markdown",
      "source": [
        "In this example 🔼 , you change the **.age attribute** of the buddy object to **10**.\n",
        "\n",
        "**OR** 🔽"
      ],
      "metadata": {
        "id": "k-XjpAYNiezv"
      }
    },
    {
      "cell_type": "code",
      "source": [
        "miles.species"
      ],
      "metadata": {
        "colab": {
          "base_uri": "https://localhost:8080/",
          "height": 35
        },
        "id": "VWtg2FvWiaDF",
        "outputId": "217cb6a3-a82f-4d8a-8e9b-9a917b7bf3f4"
      },
      "execution_count": 65,
      "outputs": [
        {
          "output_type": "execute_result",
          "data": {
            "application/vnd.google.colaboratory.intrinsic+json": {
              "type": "string"
            },
            "text/plain": [
              "'Canis familiaris'"
            ]
          },
          "metadata": {},
          "execution_count": 65
        }
      ]
    },
    {
      "cell_type": "code",
      "source": [
        "miles.species = \"Felis silvestris\"\n",
        "miles.species"
      ],
      "metadata": {
        "colab": {
          "base_uri": "https://localhost:8080/",
          "height": 35
        },
        "id": "yJn6DkyiihGz",
        "outputId": "3fe7c188-5efb-4d6d-91e0-8cc71d87f7c6"
      },
      "execution_count": 66,
      "outputs": [
        {
          "output_type": "execute_result",
          "data": {
            "application/vnd.google.colaboratory.intrinsic+json": {
              "type": "string"
            },
            "text/plain": [
              "'Felis silvestris'"
            ]
          },
          "metadata": {},
          "execution_count": 66
        }
      ]
    },
    {
      "cell_type": "markdown",
      "source": [
        "Then you change the **.species attribute** of the miles object to **\"Felis silvestris\"** 🔼, which is a species of cat."
      ],
      "metadata": {
        "id": "u06ddpigivgP"
      }
    },
    {
      "cell_type": "markdown",
      "source": [
        "Custom objects are mutable by default. \n",
        "\n",
        "An object is mutable **if it can be altered dynamically**. \n",
        "\n",
        "For example, **lists and dictionaries are mutable**, but **strings and tuples are immutable.**"
      ],
      "metadata": {
        "id": "OLk3hxpXjskP"
      }
    },
    {
      "cell_type": "markdown",
      "source": [
        "## Instance Methods"
      ],
      "metadata": {
        "id": "hH-63epwR4-V"
      }
    },
    {
      "cell_type": "markdown",
      "source": [
        "Instance methods are functions that are defined inside a class and can only be called from an instance of that class.\n",
        "\n",
        "Just like .__init__(), an instance method’s first parameter is always self.\n",
        "\n",
        "For example:"
      ],
      "metadata": {
        "id": "G408kR4cgOTU"
      }
    },
    {
      "cell_type": "code",
      "source": [
        "class Dog:\n",
        "  species = \"Canis familiaris\"\n",
        "\n",
        "  def __init__(self, name, age):\n",
        "    self.name = name\n",
        "    self.age = age\n",
        "\n",
        "  # Instance Method\n",
        "  def description(self):\n",
        "    return f\"{self.name} is {self.age} years old\"\n",
        "\n",
        "  # Another Instance Method\n",
        "  def speak(self, sound):\n",
        "    return f\"{self.name} says {sound}\""
      ],
      "metadata": {
        "id": "EHTtNpdwkyth"
      },
      "execution_count": 77,
      "outputs": []
    },
    {
      "cell_type": "markdown",
      "source": [
        "This Dog class has two instance methods:\n",
        "\n",
        "1.   **.description()** returns a string displaying the name and age of the dog.\n",
        "2.   **.speak()** has one parameter called sound and returns a string containing the dog’s name and the sound the dog makes."
      ],
      "metadata": {
        "id": "sT-Fhds9ma7z"
      }
    },
    {
      "cell_type": "code",
      "source": [
        "miles = Dog(\"Miles\", 4)"
      ],
      "metadata": {
        "id": "dnYqNIh2pOUi"
      },
      "execution_count": 68,
      "outputs": []
    },
    {
      "cell_type": "code",
      "source": [
        "miles.description()"
      ],
      "metadata": {
        "colab": {
          "base_uri": "https://localhost:8080/",
          "height": 35
        },
        "id": "e-e1M0AIpPB5",
        "outputId": "8a39d8f6-e8f6-4afc-f921-27d2a3079e94"
      },
      "execution_count": 69,
      "outputs": [
        {
          "output_type": "execute_result",
          "data": {
            "application/vnd.google.colaboratory.intrinsic+json": {
              "type": "string"
            },
            "text/plain": [
              "'Miles is 4 years old'"
            ]
          },
          "metadata": {},
          "execution_count": 69
        }
      ]
    },
    {
      "cell_type": "code",
      "source": [
        "miles.speak(\"hap hap\")"
      ],
      "metadata": {
        "colab": {
          "base_uri": "https://localhost:8080/",
          "height": 35
        },
        "id": "75PLzKwrpU0v",
        "outputId": "76266cdf-59cd-4262-b48e-f5924ce20783"
      },
      "execution_count": 70,
      "outputs": [
        {
          "output_type": "execute_result",
          "data": {
            "application/vnd.google.colaboratory.intrinsic+json": {
              "type": "string"
            },
            "text/plain": [
              "'Miles says hap hap'"
            ]
          },
          "metadata": {},
          "execution_count": 70
        }
      ]
    },
    {
      "cell_type": "code",
      "source": [
        "miles.speak(\"Woof Woof\")"
      ],
      "metadata": {
        "colab": {
          "base_uri": "https://localhost:8080/",
          "height": 35
        },
        "id": "I3pi00mKpZbS",
        "outputId": "8e0c64a3-ab22-46be-f02f-1c7b7d6484b4"
      },
      "execution_count": 71,
      "outputs": [
        {
          "output_type": "execute_result",
          "data": {
            "application/vnd.google.colaboratory.intrinsic+json": {
              "type": "string"
            },
            "text/plain": [
              "'Miles says Woof Woof'"
            ]
          },
          "metadata": {},
          "execution_count": 71
        }
      ]
    },
    {
      "cell_type": "markdown",
      "source": [
        "When you create a list object, you can use `print()` to display a string that looks like the list: 🔽"
      ],
      "metadata": {
        "id": "AN5r4VQio_51"
      }
    },
    {
      "cell_type": "code",
      "source": [
        "names = [\"Fletcher\", \"David\", \"Dan\"]\n",
        "print(names)"
      ],
      "metadata": {
        "colab": {
          "base_uri": "https://localhost:8080/"
        },
        "id": "TD7ZCvTttuba",
        "outputId": "e3ab2fba-f904-4b90-e026-ab96c857c24a"
      },
      "execution_count": 72,
      "outputs": [
        {
          "output_type": "stream",
          "name": "stdout",
          "text": [
            "['Fletcher', 'David', 'Dan']\n"
          ]
        }
      ]
    },
    {
      "cell_type": "markdown",
      "source": [
        "Let’s see what happens when you `print()` the miles object: 🔽"
      ],
      "metadata": {
        "id": "KBAlhR8Ht5Ff"
      }
    },
    {
      "cell_type": "code",
      "source": [
        "print(miles)"
      ],
      "metadata": {
        "colab": {
          "base_uri": "https://localhost:8080/"
        },
        "id": "Tds5atJbt8V5",
        "outputId": "ddc61334-cb0e-47a7-c1a0-98151dda1f40"
      },
      "execution_count": 73,
      "outputs": [
        {
          "output_type": "stream",
          "name": "stdout",
          "text": [
            "<__main__.Dog object at 0x7f180c070550>\n"
          ]
        }
      ]
    },
    {
      "cell_type": "markdown",
      "source": [
        "When you `print(miles)`, you get a cryptic looking message telling you that miles is a Dog object at the memory address 0x7f180c070550. \n",
        "\n",
        "This message isn’t very helpful.\n",
        "\n",
        "You can change what gets printed by defining a special instance method called `.__str__()`."
      ],
      "metadata": {
        "id": "gZr8Sv7BvRO0"
      }
    },
    {
      "cell_type": "markdown",
      "source": [
        "In the editor window, change the name of the Dog class’s `.description()` method to `.__str__()`:"
      ],
      "metadata": {
        "id": "dCcI-X7uvRbZ"
      }
    },
    {
      "cell_type": "code",
      "source": [
        "class Dog:\n",
        "  \n",
        "  def __init__(self, name, age):\n",
        "    self.name = name\n",
        "    self.age = age\n",
        "\n",
        "  # Replace .description() with __str__()\n",
        "  def __str__(self):\n",
        "    return f\"{self.name} is {self.age} years old\""
      ],
      "metadata": {
        "id": "Ln16L_iw2iGN"
      },
      "execution_count": 84,
      "outputs": []
    },
    {
      "cell_type": "markdown",
      "source": [
        "Now, when you `print(miles)`, you get a much friendlier output:"
      ],
      "metadata": {
        "id": "3UzxCFo13PVQ"
      }
    },
    {
      "cell_type": "code",
      "source": [
        "miles = Dog(\"Miles\", 4)\n",
        "print(miles)"
      ],
      "metadata": {
        "colab": {
          "base_uri": "https://localhost:8080/"
        },
        "id": "lYtpEWfC3Tr3",
        "outputId": "3ac82076-a526-4018-cd0f-03a763e4615e"
      },
      "execution_count": 85,
      "outputs": [
        {
          "output_type": "stream",
          "name": "stdout",
          "text": [
            "Miles is 4 years old\n"
          ]
        }
      ]
    },
    {
      "cell_type": "markdown",
      "source": [
        "Methods like `.__init__()` and `.__str__()` are called **dunder methods** because they begin and end with **double underscores**.\n",
        "\n",
        "There are many dunder methods that you can use to customize classes in Python.\n",
        "\n",
        "Although too advanced a topic for a beginning Python book, **understanding dunder methods is an important part of mastering object-oriented programming in Python.**"
      ],
      "metadata": {
        "id": "rBeLlN1h3v9s"
      }
    },
    {
      "cell_type": "markdown",
      "source": [
        "## Check Your Understanding"
      ],
      "metadata": {
        "id": "74wGDZjDR6Q4"
      }
    },
    {
      "cell_type": "markdown",
      "source": [
        "**Exercise: Create a Car class**\n",
        "\n",
        "Create a Car class with two instance attributes:\n",
        "\n",
        "\n",
        "\n",
        "1.   `.color` , which stores the name of the car’s color as a string\n",
        "2.   `.mileage` , which stores the number of miles on the car as an integer\n",
        "\n",
        "Then instantiate two Car objects—a blue car with 20,000 miles and a red car with 30,000 miles—and print out their colors and mileage. Your output should look like this:\n",
        "\n",
        "```\n",
        "The blue car has 20,000 miles.\n",
        "The red car has 30,000 miles.\n",
        "```"
      ],
      "metadata": {
        "id": "zozjpfv5gPRD"
      }
    },
    {
      "cell_type": "code",
      "source": [
        "class Car:\n",
        "  def __init__(self, color, mileage):\n",
        "    self.color = color\n",
        "    self.mileage = mileage\n",
        "  \n",
        "  def __str__(self):\n",
        "    return f\"The {self.color} car has {self.mileage:,} miles\""
      ],
      "metadata": {
        "id": "oz5AJKzA60Ez"
      },
      "execution_count": 105,
      "outputs": []
    },
    {
      "cell_type": "code",
      "source": [
        "blue_car = Car(\"blue\", 20_000)\n",
        "print(blue_car)"
      ],
      "metadata": {
        "colab": {
          "base_uri": "https://localhost:8080/"
        },
        "id": "oSnmgwdP8MSX",
        "outputId": "b020c126-3a76-4920-be3b-319c7d74b855"
      },
      "execution_count": 106,
      "outputs": [
        {
          "output_type": "stream",
          "name": "stdout",
          "text": [
            "The blue car has 20,000 miles\n"
          ]
        }
      ]
    },
    {
      "cell_type": "code",
      "source": [
        "red_car = Car(\"red\", 30_000)\n",
        "print(red_car)"
      ],
      "metadata": {
        "colab": {
          "base_uri": "https://localhost:8080/"
        },
        "id": "xX3XBz3S7mHv",
        "outputId": "d25241fa-98b2-4d42-ccc8-d77164d3fc18"
      },
      "execution_count": 107,
      "outputs": [
        {
          "output_type": "stream",
          "name": "stdout",
          "text": [
            "The red car has 30,000 miles\n"
          ]
        }
      ]
    },
    {
      "cell_type": "markdown",
      "source": [
        "The [f-string](https://realpython.com/python-f-strings/) in the above inserts the .color and .mileage attributes into the string and uses the :, [format specifier](https://realpython.com/python-formatted-output/#f-string-formatting) to print the mileage grouped by thousands and separated with a comma."
      ],
      "metadata": {
        "id": "oKuDEjdY9sei"
      }
    },
    {
      "cell_type": "markdown",
      "source": [
        "# Inherit From Other Classes in Python"
      ],
      "metadata": {
        "id": "lzPe39e3RaPS"
      }
    },
    {
      "cell_type": "markdown",
      "source": [
        "## Dog Park Example"
      ],
      "metadata": {
        "id": "X2OPifSoRabq"
      }
    },
    {
      "cell_type": "markdown",
      "source": [
        "## Parent Classes vs Child Classes"
      ],
      "metadata": {
        "id": "XGRYkeeZSCRZ"
      }
    },
    {
      "cell_type": "markdown",
      "source": [
        "## Extend the Functionality of a Parent Class"
      ],
      "metadata": {
        "id": "9EjdBh-XSGNF"
      }
    },
    {
      "cell_type": "markdown",
      "source": [
        "## Check Your Understanding"
      ],
      "metadata": {
        "id": "YQ6JwdVPSJhy"
      }
    },
    {
      "cell_type": "markdown",
      "source": [
        "# Conclusion"
      ],
      "metadata": {
        "id": "9DT1imRcSQfg"
      }
    },
    {
      "cell_type": "markdown",
      "source": [
        "In this tutorial, you learned how to:\n",
        "\n",
        "1.   Define a class, which is a sort of blueprint for an object\n",
        "2.   Instantiate an object from a class\n",
        "3.   Use attributes and methods to define the properties and behaviors of an object\n",
        "4.   Use inheritance to create child classes from a parent class\n",
        "5.   Reference a method on a parent class using super()\n",
        "6.   Check if an object inherits from another class using isinstance()"
      ],
      "metadata": {
        "id": "nHYtuz9pSV7B"
      }
    },
    {
      "cell_type": "markdown",
      "source": [
        "ex: let's build an university class"
      ],
      "metadata": {
        "id": "ru1_nLO4FLgF"
      }
    },
    {
      "cell_type": "code",
      "source": [
        "class person:\n",
        "    # class variables:\n",
        "    count = 0\n",
        "\n",
        "    # init method means starter method\n",
        "    # in python, when we are working with methods in a class, \n",
        "    #  I always set a 'self' at first \n",
        "    \n",
        "    # If anyone want to make a person, should give me name and age\n",
        "    def __init__(self, name, age):\n",
        "        # self mention to this object\n",
        "        # We build a class named person, \n",
        "        # and then we say Mohammad for example is a person, \n",
        "        # self mention to Mohammad\n",
        "        self.name = name\n",
        "        self.age = age\n",
        "        person.count = person.count + 1\n",
        "\n",
        "    def get_name(self):\n",
        "        print('name is %s' % self.name )\n",
        "\n",
        "    def get_age(self):\n",
        "        print('age is %s' % self.age)\n",
        "\n",
        "    def get_info(self):\n",
        "        print('name is %s and age is %i' % (self.name, self.age))\n",
        "\n",
        "    def birthday(self):\n",
        "        self.age = self.age + 1\n",
        "        print('happy birthday %s' % self.name, ', your age is %s now' %self.age)\n",
        "\n",
        "    def return_count(self):\n",
        "        return (person.count)"
      ],
      "metadata": {
        "id": "2dQrHXZ7FFEm"
      },
      "execution_count": null,
      "outputs": []
    },
    {
      "cell_type": "code",
      "source": [
        "Mohammad = person('Mohammad',28)"
      ],
      "metadata": {
        "id": "aoLrjgnlaPRY"
      },
      "execution_count": null,
      "outputs": []
    },
    {
      "cell_type": "code",
      "source": [
        "Mohammad.get_name()"
      ],
      "metadata": {
        "colab": {
          "base_uri": "https://localhost:8080/"
        },
        "id": "NqogN8ZAaq03",
        "outputId": "5410ca3e-05e1-456f-916c-488c257cb136"
      },
      "execution_count": null,
      "outputs": [
        {
          "output_type": "stream",
          "name": "stdout",
          "text": [
            "name is Mohammad\n"
          ]
        }
      ]
    },
    {
      "cell_type": "code",
      "source": [
        "Mohammad.get_age()"
      ],
      "metadata": {
        "colab": {
          "base_uri": "https://localhost:8080/"
        },
        "id": "t28eO3KVau7W",
        "outputId": "6df4927e-62c7-455c-d28c-f63da76ad70f"
      },
      "execution_count": null,
      "outputs": [
        {
          "output_type": "stream",
          "name": "stdout",
          "text": [
            "age is 29\n"
          ]
        }
      ]
    },
    {
      "cell_type": "code",
      "source": [
        "Mohammad.get_info()"
      ],
      "metadata": {
        "colab": {
          "base_uri": "https://localhost:8080/"
        },
        "id": "kH2pi7Cbaaf6",
        "outputId": "bab2d8c0-2886-491f-e400-94d421389ae3"
      },
      "execution_count": null,
      "outputs": [
        {
          "output_type": "stream",
          "name": "stdout",
          "text": [
            "name is Mohammad and age is 28\n"
          ]
        }
      ]
    },
    {
      "cell_type": "code",
      "source": [
        "Mohammad.birthday()\n"
      ],
      "metadata": {
        "colab": {
          "base_uri": "https://localhost:8080/"
        },
        "id": "AQ8mfzx4adYH",
        "outputId": "896da9d2-23d1-49c8-f7a1-184ea2b168f7"
      },
      "execution_count": null,
      "outputs": [
        {
          "output_type": "stream",
          "name": "stdout",
          "text": [
            "happy birthday Mohammad , your age is 29 now\n"
          ]
        }
      ]
    },
    {
      "cell_type": "code",
      "source": [
        "Manooch = person('manoochehr', 12)"
      ],
      "metadata": {
        "id": "otWhBjg-akgO"
      },
      "execution_count": null,
      "outputs": []
    },
    {
      "cell_type": "code",
      "source": [
        "Manooch.get_info()"
      ],
      "metadata": {
        "colab": {
          "base_uri": "https://localhost:8080/"
        },
        "id": "DUTU7n4qamW7",
        "outputId": "34fc9386-4218-4138-ffcf-5ccc2de8ef29"
      },
      "execution_count": null,
      "outputs": [
        {
          "output_type": "stream",
          "name": "stdout",
          "text": [
            "name is manoochehr and age is 12\n"
          ]
        }
      ]
    },
    {
      "cell_type": "code",
      "source": [
        "print('at the moment I have %i persons' % Manooch.return_count())"
      ],
      "metadata": {
        "colab": {
          "base_uri": "https://localhost:8080/"
        },
        "id": "KndJIXJta0FZ",
        "outputId": "032ff5c5-ed1f-4da1-b104-2633f1265c04"
      },
      "execution_count": null,
      "outputs": [
        {
          "output_type": "stream",
          "name": "stdout",
          "text": [
            "at the moment I have 2 persons\n"
          ]
        }
      ]
    },
    {
      "cell_type": "markdown",
      "source": [
        "## References\n",
        "\n",
        "[real python](https://realpython.com/tutorials/all/\n",
        ")\n",
        "\n",
        "[OOP real python](https://realpython.com/learning-paths/object-oriented-programming-oop-python/\n",
        ")\n",
        "\n",
        "[OOP in python3](https://realpython.com/python3-object-oriented-programming/)\n",
        "\n",
        "[Python 3's f-Strings: An Improved String Formatting Syntax (Guide)](https://realpython.com/python-f-strings/)\n",
        "\n",
        "[A Guide to the Newer Python String Format Techniques](https://realpython.com/python-formatted-output/#f-string-formatting)"
      ],
      "metadata": {
        "id": "OX5Nkj1f8PyB"
      }
    }
  ]
}