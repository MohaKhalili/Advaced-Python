{
  "nbformat": 4,
  "nbformat_minor": 0,
  "metadata": {
    "colab": {
      "name": "4-Inheritance.ipynb",
      "provenance": [],
      "collapsed_sections": [],
      "toc_visible": true,
      "authorship_tag": "ABX9TyOf4iXFppesvUka+IWxgxaV",
      "include_colab_link": true
    },
    "kernelspec": {
      "name": "python3",
      "display_name": "Python 3"
    },
    "language_info": {
      "name": "python"
    }
  },
  "cells": [
    {
      "cell_type": "markdown",
      "metadata": {
        "id": "view-in-github",
        "colab_type": "text"
      },
      "source": [
        "<a href=\"https://colab.research.google.com/github/mohakhalili/Advaced-Python/blob/main/OOP-Jadi/4_Inheritance.ipynb\" target=\"_parent\"><img src=\"https://colab.research.google.com/assets/colab-badge.svg\" alt=\"Open In Colab\"/></a>"
      ]
    },
    {
      "cell_type": "markdown",
      "source": [
        "# Inherit From Other Classes in Python"
      ],
      "metadata": {
        "id": "lzPe39e3RaPS"
      }
    },
    {
      "cell_type": "markdown",
      "source": [
        "Inheritance is the process by which one class takes on the attributes and methods of another. \n",
        "\n",
        "Newly formed classes are called **child classes**, and the classes that child classes are derived from are called **parent classes**."
      ],
      "metadata": {
        "id": "BfLi4D8AbNXF"
      }
    },
    {
      "cell_type": "markdown",
      "source": [
        "Child classes can override or extend the attributes and methods of parent classes. \n",
        "\n",
        "In other words, child classes inherit all of the parent’s attributes and methods\n",
        "\n",
        "**but** 😎\n",
        "\n",
        "can also specify attributes and methods that are unique to themselves."
      ],
      "metadata": {
        "id": "lJvFSXnBaCYv"
      }
    },
    {
      "cell_type": "markdown",
      "source": [
        "Although the analogy isn’t perfect, you can think of object inheritance sort of **like genetic inheritance**. 😯"
      ],
      "metadata": {
        "id": "09n9iaEjaFlE"
      }
    },
    {
      "cell_type": "markdown",
      "source": [
        "You may have inherited your hair color from your mother. 🧑\n",
        "\n",
        "It’s an attribute you were born with. 🧒\n",
        "\n",
        "Let’s say you decide to color your hair purple. 🟪\n",
        "\n",
        "Assuming your mother doesn’t have purple hair, you’ve just overridden the hair color attribute that you inherited from your mom."
      ],
      "metadata": {
        "id": "AgXQU2_uaVyV"
      }
    },
    {
      "cell_type": "markdown",
      "source": [
        "You also inherit, in a sense, your language from your parents.\n",
        "\n",
        "If your parents speak English, then you’ll also speak English.\n",
        "\n",
        "Now imagine you decide to learn a second language, like German.\n",
        "\n",
        "In this case you’ve extended your attributes because you’ve added an attribute that your parents don’t have. ✈"
      ],
      "metadata": {
        "id": "YgmvKFAHaft-"
      }
    },
    {
      "cell_type": "markdown",
      "source": [
        "## Dog Park Example"
      ],
      "metadata": {
        "id": "X2OPifSoRabq"
      }
    },
    {
      "cell_type": "markdown",
      "source": [
        "Pretend for a moment that you’re at a dog park. 🐶\n",
        "\n",
        "There are many dogs of different breeds at the park, all engaging in various dog behaviors.\n",
        "\n",
        "Suppose now that you want to model the dog park with Python classes.\n",
        "\n",
        "The Dog class that you wrote in the previous section can distinguish dogs by name and age but not by breed.\n",
        "\n",
        "You could modify the Dog class in the editor window by adding a `.breed` attribute: 🔽"
      ],
      "metadata": {
        "id": "lgjd8YkNfcEE"
      }
    },
    {
      "cell_type": "code",
      "source": [
        "class Dog:\n",
        "  species = \"Canis familiaris\"\n",
        "\n",
        "  def __init__(self, name, age, breed):\n",
        "    self.name = name\n",
        "    self.age = age\n",
        "    self.breed = breed\n",
        "\n",
        "  # Instance Method\n",
        "  def __str__(self):\n",
        "    return f\"{self.name} is {self.age} years old and {self.breed}\"\n",
        "\n",
        "  # Another Instance Method\n",
        "  def speak(self, sound):\n",
        "    return f\"{self.name} says {sound}\""
      ],
      "metadata": {
        "id": "_fQuPSP9geeo"
      },
      "execution_count": 3,
      "outputs": []
    },
    {
      "cell_type": "markdown",
      "source": [
        "Now you can model the dog park by instantiating a bunch of different dogs in the interactive window: 🔽"
      ],
      "metadata": {
        "id": "854mJxeFg1ns"
      }
    },
    {
      "cell_type": "code",
      "source": [
        "miles = Dog(\"Miles\", 4, \"Jack Russell Terrier\")\n",
        "buddy = Dog(\"Buddy\", 9, \"Dachshund\")\n",
        "jack = Dog(\"Jack\", 3, \"Bulldog\")\n",
        "jim = Dog(\"Jim\", 5, \"Bulldog\")"
      ],
      "metadata": {
        "id": "gBKIMnDnhBLs"
      },
      "execution_count": 4,
      "outputs": []
    },
    {
      "cell_type": "markdown",
      "source": [
        "Each breed of dog has slightly different behaviors.\n",
        "\n",
        "For example, bulldogs have a low bark that sounds like *woof*, but dachshunds have a higher-pitched bark that sounds more like *yap*.\n",
        "\n",
        "Using just the Dog class, you must supply a string for the sound argument of `.speak()` every time you call it on a Dog instance:"
      ],
      "metadata": {
        "id": "UTC7BkJCjsIv"
      }
    },
    {
      "cell_type": "code",
      "source": [
        "buddy.speak(\"Yap\")"
      ],
      "metadata": {
        "colab": {
          "base_uri": "https://localhost:8080/",
          "height": 35
        },
        "id": "esb9OdiakAGo",
        "outputId": "1eccdf1a-9eb6-4dce-9a7b-d39f980c52ca"
      },
      "execution_count": 5,
      "outputs": [
        {
          "output_type": "execute_result",
          "data": {
            "application/vnd.google.colaboratory.intrinsic+json": {
              "type": "string"
            },
            "text/plain": [
              "'Buddy says Yap'"
            ]
          },
          "metadata": {},
          "execution_count": 5
        }
      ]
    },
    {
      "cell_type": "code",
      "source": [
        "jim.speak(\"Woof\")"
      ],
      "metadata": {
        "colab": {
          "base_uri": "https://localhost:8080/",
          "height": 35
        },
        "id": "WfwM7EcvkHDP",
        "outputId": "21d9e657-a44f-476e-c66f-39582c3c5b38"
      },
      "execution_count": 6,
      "outputs": [
        {
          "output_type": "execute_result",
          "data": {
            "application/vnd.google.colaboratory.intrinsic+json": {
              "type": "string"
            },
            "text/plain": [
              "'Jim says Woof'"
            ]
          },
          "metadata": {},
          "execution_count": 6
        }
      ]
    },
    {
      "cell_type": "code",
      "source": [
        "jack.speak(\"Woof\")"
      ],
      "metadata": {
        "colab": {
          "base_uri": "https://localhost:8080/",
          "height": 35
        },
        "id": "gvUJeJkmkJog",
        "outputId": "f7f82fba-025d-4697-bc51-afc8d5d5edc5"
      },
      "execution_count": 7,
      "outputs": [
        {
          "output_type": "execute_result",
          "data": {
            "application/vnd.google.colaboratory.intrinsic+json": {
              "type": "string"
            },
            "text/plain": [
              "'Jack says Woof'"
            ]
          },
          "metadata": {},
          "execution_count": 7
        }
      ]
    },
    {
      "cell_type": "code",
      "source": [
        "print(jack)"
      ],
      "metadata": {
        "colab": {
          "base_uri": "https://localhost:8080/"
        },
        "id": "fGXPhCEHkiY8",
        "outputId": "4ee86a83-1191-4d5d-f404-cbfb97aef433"
      },
      "execution_count": 8,
      "outputs": [
        {
          "output_type": "stream",
          "name": "stdout",
          "text": [
            "Jack is 3 years old and Bulldog\n"
          ]
        }
      ]
    },
    {
      "cell_type": "markdown",
      "source": [
        "Passing a string to every call to `.speak()` is repetitive and inconvenient.\n",
        "\n",
        "Moreover, the string representing the sound that each Dog instance makes should be determined by its `.breed` attribute, but here you have to manually pass the correct string to `.speak()` every time it’s called.\n",
        "\n",
        "You can simplify the experience of working with the Dog class by creating a **child class** for each breed of dog. \n",
        "\n",
        "This allows you to extend the functionality that each child class inherits, including specifying a default argument for `.speak()`."
      ],
      "metadata": {
        "id": "82JZDtZolDpk"
      }
    },
    {
      "cell_type": "markdown",
      "source": [
        "## Parent Classes vs Child Classes"
      ],
      "metadata": {
        "id": "XGRYkeeZSCRZ"
      }
    },
    {
      "cell_type": "markdown",
      "source": [
        "Let’s create a child class for each of the three breeds mentioned above:\n",
        "1.   Jack Russell Terrier\n",
        "2.   Dachshund\n",
        "3.   Bulldog.\n",
        "\n",
        "For reference, here’s the full definition of the Dog class: 🔽"
      ],
      "metadata": {
        "id": "4AOrFTbVlo92"
      }
    },
    {
      "cell_type": "code",
      "source": [
        "class Dog:\n",
        "  species = \"Canis familiaris\"\n",
        "\n",
        "  def __init__(self, name, age):\n",
        "    self.name = name\n",
        "    self.age = age\n",
        "\n",
        "  # Instance Method\n",
        "  def __str__(self):\n",
        "    return f\"{self.name} is {self.age} years old\"\n",
        "\n",
        "  # Another Instance Method\n",
        "  def speak(self, sound):\n",
        "    return f\"{self.name} says {sound}\""
      ],
      "metadata": {
        "id": "DJcq4z7Cl4Yr"
      },
      "execution_count": 49,
      "outputs": []
    },
    {
      "cell_type": "markdown",
      "source": [
        "Remember, to create a child class, you create new class with its own name and then put the name of the parent class in parentheses.\n",
        "\n",
        "Add the following to create three new child classes of the Dog class: 🔽"
      ],
      "metadata": {
        "id": "siSiUjqOmFkh"
      }
    },
    {
      "cell_type": "code",
      "source": [
        "class JackRussellTerrier(Dog):\n",
        "  pass\n",
        "\n",
        "class Dachshund(Dog):\n",
        "  pass\n",
        "\n",
        "class Bulldog(Dog):\n",
        "  pass"
      ],
      "metadata": {
        "id": "j1-NYrbBmRIn"
      },
      "execution_count": 50,
      "outputs": []
    },
    {
      "cell_type": "markdown",
      "source": [
        "With the child classes defined, you can now instantiate some dogs of specific breeds in the interactive window:  ▶🔽◀"
      ],
      "metadata": {
        "id": "yZRk_MDfmml6"
      }
    },
    {
      "cell_type": "code",
      "source": [
        "miles = JackRussellTerrier(\"Miles\", 4)"
      ],
      "metadata": {
        "id": "be4Q4uAcm7lP"
      },
      "execution_count": 11,
      "outputs": []
    },
    {
      "cell_type": "code",
      "source": [
        "buddy = Dachshund(\"Buddy\", 9)"
      ],
      "metadata": {
        "id": "lomV1rs6nGkO"
      },
      "execution_count": 12,
      "outputs": []
    },
    {
      "cell_type": "code",
      "source": [
        "jack = Bulldog(\"Jack\", 3)"
      ],
      "metadata": {
        "id": "T4aw-GuMnL8J"
      },
      "execution_count": 13,
      "outputs": []
    },
    {
      "cell_type": "code",
      "source": [
        "jim = Bulldog(\"Jim\", 5)"
      ],
      "metadata": {
        "id": "S61iuXPjnR47"
      },
      "execution_count": 14,
      "outputs": []
    },
    {
      "cell_type": "markdown",
      "source": [
        "Instances of child classes inherit all of the attributes and methods of the parent class: 💔"
      ],
      "metadata": {
        "id": "z4nMvTE8naU4"
      }
    },
    {
      "cell_type": "code",
      "source": [
        "miles.species"
      ],
      "metadata": {
        "colab": {
          "base_uri": "https://localhost:8080/",
          "height": 35
        },
        "id": "AuQ0VsRMnjYp",
        "outputId": "ffa33052-f1b0-452e-88bc-061ce6295040"
      },
      "execution_count": 15,
      "outputs": [
        {
          "output_type": "execute_result",
          "data": {
            "application/vnd.google.colaboratory.intrinsic+json": {
              "type": "string"
            },
            "text/plain": [
              "'Canis familiaris'"
            ]
          },
          "metadata": {},
          "execution_count": 15
        }
      ]
    },
    {
      "cell_type": "code",
      "source": [
        "buddy.name"
      ],
      "metadata": {
        "colab": {
          "base_uri": "https://localhost:8080/",
          "height": 35
        },
        "id": "O-cyA_j_nm1S",
        "outputId": "8aeb9530-e53d-420d-f000-95038c0a2777"
      },
      "execution_count": 16,
      "outputs": [
        {
          "output_type": "execute_result",
          "data": {
            "application/vnd.google.colaboratory.intrinsic+json": {
              "type": "string"
            },
            "text/plain": [
              "'Buddy'"
            ]
          },
          "metadata": {},
          "execution_count": 16
        }
      ]
    },
    {
      "cell_type": "code",
      "source": [
        "print(jack)"
      ],
      "metadata": {
        "colab": {
          "base_uri": "https://localhost:8080/"
        },
        "id": "20HepTm7nqtW",
        "outputId": "618a6399-4f7c-495f-bf5c-4776ede170cb"
      },
      "execution_count": 17,
      "outputs": [
        {
          "output_type": "stream",
          "name": "stdout",
          "text": [
            "Jack is 3 years old\n"
          ]
        }
      ]
    },
    {
      "cell_type": "code",
      "source": [
        "jim.speak(\"Woof\")"
      ],
      "metadata": {
        "colab": {
          "base_uri": "https://localhost:8080/",
          "height": 35
        },
        "id": "9ugQCxuMntT2",
        "outputId": "6471727c-05ac-40b6-f331-6b603f863df2"
      },
      "execution_count": 18,
      "outputs": [
        {
          "output_type": "execute_result",
          "data": {
            "application/vnd.google.colaboratory.intrinsic+json": {
              "type": "string"
            },
            "text/plain": [
              "'Jim says Woof'"
            ]
          },
          "metadata": {},
          "execution_count": 18
        }
      ]
    },
    {
      "cell_type": "markdown",
      "source": [
        "To determine which class a given object belongs to, you can use the built-in `type()`:"
      ],
      "metadata": {
        "id": "Fp29iqVhn0pN"
      }
    },
    {
      "cell_type": "code",
      "source": [
        "type(miles)"
      ],
      "metadata": {
        "colab": {
          "base_uri": "https://localhost:8080/"
        },
        "id": "xjsHBycdrvh4",
        "outputId": "6d38f54a-edc4-4dc6-f39a-e9f7b5ccc1f4"
      },
      "execution_count": 19,
      "outputs": [
        {
          "output_type": "execute_result",
          "data": {
            "text/plain": [
              "__main__.JackRussellTerrier"
            ]
          },
          "metadata": {},
          "execution_count": 19
        }
      ]
    },
    {
      "cell_type": "markdown",
      "source": [
        "What if you want to determine if miles is also an instance of the Dog class? You can do this with the built-in **`isinstance()`**:"
      ],
      "metadata": {
        "id": "15P-XMQhsubn"
      }
    },
    {
      "cell_type": "code",
      "source": [
        "isinstance(miles, Dog)"
      ],
      "metadata": {
        "colab": {
          "base_uri": "https://localhost:8080/"
        },
        "id": "vzen-cJdrxAr",
        "outputId": "32f0d3fc-2a71-4be0-fa72-f6ada4e0485e"
      },
      "execution_count": 20,
      "outputs": [
        {
          "output_type": "execute_result",
          "data": {
            "text/plain": [
              "True"
            ]
          },
          "metadata": {},
          "execution_count": 20
        }
      ]
    },
    {
      "cell_type": "markdown",
      "source": [
        "Notice that **`isinstance()`** takes two arguments, **an object and a class**.\n",
        "\n",
        "In the example above, **`isinstance()`** checks if miles is an instance of the Dog class and returns **`True`**.\n",
        "\n",
        "The miles, buddy, jack, and jim objects are all Dog instances, but miles is not a Bulldog instance, and jack is not a Dachshund instance: 🔽"
      ],
      "metadata": {
        "id": "MK6L7n9Ztbe-"
      }
    },
    {
      "cell_type": "code",
      "source": [
        "isinstance(miles, Bulldog)"
      ],
      "metadata": {
        "colab": {
          "base_uri": "https://localhost:8080/"
        },
        "id": "7a_S9PfMta-1",
        "outputId": "d1b951cf-7d16-4c54-8559-75ae9a32778c"
      },
      "execution_count": 21,
      "outputs": [
        {
          "output_type": "execute_result",
          "data": {
            "text/plain": [
              "False"
            ]
          },
          "metadata": {},
          "execution_count": 21
        }
      ]
    },
    {
      "cell_type": "code",
      "source": [
        "isinstance(jack, Dachshund)"
      ],
      "metadata": {
        "colab": {
          "base_uri": "https://localhost:8080/"
        },
        "id": "XGKTSXwGttnB",
        "outputId": "9862bb4f-75c6-44ed-b79c-642afee92e94"
      },
      "execution_count": 22,
      "outputs": [
        {
          "output_type": "execute_result",
          "data": {
            "text/plain": [
              "False"
            ]
          },
          "metadata": {},
          "execution_count": 22
        }
      ]
    },
    {
      "cell_type": "markdown",
      "source": [
        "More generally, all objects created from a child class are instances of the parent class, although they may not be instances of other child classes.\n",
        "\n",
        "Now that you’ve created child classes for some different breeds of dogs, let’s give each breed its own sound. 🐞"
      ],
      "metadata": {
        "id": "68LEx18yt0NA"
      }
    },
    {
      "cell_type": "markdown",
      "source": [
        "## Extend the Functionality of a Parent Class"
      ],
      "metadata": {
        "id": "9EjdBh-XSGNF"
      }
    },
    {
      "cell_type": "markdown",
      "source": [
        "Since different breeds of dogs have slightly different barks, you want to provide a default value for the sound argument of their respective `.speak()` methods. \n",
        "\n",
        "To do this, you need to override `.speak()` in the class definition for each breed.\n",
        "\n",
        "To override a method defined on the parent class, you define a method with the same name on the child class.\n",
        "\n",
        "Here’s what that looks like for the JackRussellTerrier class: 🔽"
      ],
      "metadata": {
        "id": "KMQCrW-xv5p9"
      }
    },
    {
      "cell_type": "code",
      "source": [
        "class JackRussellTerrier(Dog):\n",
        "  def speak(self, sound = \"Arf\"):\n",
        "    return f\"{self.name} says {sound}\""
      ],
      "metadata": {
        "id": "0llkX-dMoNJB"
      },
      "execution_count": 51,
      "outputs": []
    },
    {
      "cell_type": "markdown",
      "source": [
        "Now `.speak()` is defined on the JackRussellTerrier class with the default argument for sound set to \"Arf\".\n",
        "\n",
        "You can now call `.speak()` on a JackRussellTerrier instance without passing an argument to sound: 🔽"
      ],
      "metadata": {
        "id": "ZoZpQOfswwmF"
      }
    },
    {
      "cell_type": "code",
      "source": [
        "miles = JackRussellTerrier(\"Miles\", 4)\n",
        "miles.speak()"
      ],
      "metadata": {
        "colab": {
          "base_uri": "https://localhost:8080/",
          "height": 35
        },
        "id": "m5fOAhTXxAoF",
        "outputId": "e15e6a47-fadb-4d94-c6b2-6becebde5279"
      },
      "execution_count": 25,
      "outputs": [
        {
          "output_type": "execute_result",
          "data": {
            "application/vnd.google.colaboratory.intrinsic+json": {
              "type": "string"
            },
            "text/plain": [
              "'Miles says Arf'"
            ]
          },
          "metadata": {},
          "execution_count": 25
        }
      ]
    },
    {
      "cell_type": "markdown",
      "source": [
        "Sometimes dogs make different barks, so if Miles gets angry and growls, you can still call `.speak()` with a different sound: 🔽"
      ],
      "metadata": {
        "id": "AGeHGQN1xLlm"
      }
    },
    {
      "cell_type": "code",
      "source": [
        "miles.speak(\"Gerr\")"
      ],
      "metadata": {
        "colab": {
          "base_uri": "https://localhost:8080/",
          "height": 35
        },
        "id": "Ld-j7kdGx8kF",
        "outputId": "bbdfae34-7809-4c47-9747-0598a70e4b79"
      },
      "execution_count": 26,
      "outputs": [
        {
          "output_type": "execute_result",
          "data": {
            "application/vnd.google.colaboratory.intrinsic+json": {
              "type": "string"
            },
            "text/plain": [
              "'Miles says Gerr'"
            ]
          },
          "metadata": {},
          "execution_count": 26
        }
      ]
    },
    {
      "cell_type": "markdown",
      "source": [
        "One thing to keep in mind about **class inheritance** is that changes to the parent class automatically propagate to child classes.\n",
        "\n",
        "This occurs as long as the attribute or method being changed isn’t overridden in the child class."
      ],
      "metadata": {
        "id": "dxmIwR6-yaaG"
      }
    },
    {
      "cell_type": "markdown",
      "source": [
        "For example, in the editor window, change the string returned by `.speak()` in the Dog class: ⚓"
      ],
      "metadata": {
        "id": "grLdMy7ay1W_"
      }
    },
    {
      "cell_type": "code",
      "source": [
        "class Dog:\n",
        "  species = \"Canis familiaris\"\n",
        "\n",
        "  def __init__(self, name, age):\n",
        "    self.name = name\n",
        "    self.age = age\n",
        "\n",
        "  # Instance Method\n",
        "  def __str__(self):\n",
        "    return f\"{self.name} is {self.age} years old\"\n",
        "  \n",
        "  # Change the string returned by .speak()\n",
        "  def speak(self, sound):\n",
        "    return f\"{self.name} barks: {sound}\""
      ],
      "metadata": {
        "id": "zVr9wmqKy9m2"
      },
      "execution_count": 61,
      "outputs": []
    },
    {
      "cell_type": "code",
      "source": [
        "class Bulldog(Dog):\n",
        "  pass"
      ],
      "metadata": {
        "id": "s8gPkPuNz8gq"
      },
      "execution_count": 33,
      "outputs": []
    },
    {
      "cell_type": "code",
      "source": [
        "jim = Bulldog(\"Jim\", 5)"
      ],
      "metadata": {
        "id": "uGofYpX8zgyM"
      },
      "execution_count": 34,
      "outputs": []
    },
    {
      "cell_type": "code",
      "source": [
        "jim.speak(\"Woof\")"
      ],
      "metadata": {
        "colab": {
          "base_uri": "https://localhost:8080/",
          "height": 35
        },
        "id": "9gUeJGQuzh63",
        "outputId": "0c07454d-9b46-409b-bb15-b7f7777a3b1b"
      },
      "execution_count": 35,
      "outputs": [
        {
          "output_type": "execute_result",
          "data": {
            "application/vnd.google.colaboratory.intrinsic+json": {
              "type": "string"
            },
            "text/plain": [
              "'Jim barks: Woof'"
            ]
          },
          "metadata": {},
          "execution_count": 35
        }
      ]
    },
    {
      "cell_type": "markdown",
      "source": [
        "However, calling `.speak()` on a `JackRussellTerrier` instance won’t show the new style of output:"
      ],
      "metadata": {
        "id": "7Z8tgLL10IIR"
      }
    },
    {
      "cell_type": "code",
      "source": [
        "miles = JackRussellTerrier(\"Miles\", 4)\n",
        "miles.speak()"
      ],
      "metadata": {
        "colab": {
          "base_uri": "https://localhost:8080/",
          "height": 35
        },
        "id": "wR-ezJIO0Ov_",
        "outputId": "7d8f7b09-ac51-46ba-dfbb-77ecf8ab0b9b"
      },
      "execution_count": 52,
      "outputs": [
        {
          "output_type": "execute_result",
          "data": {
            "application/vnd.google.colaboratory.intrinsic+json": {
              "type": "string"
            },
            "text/plain": [
              "'Miles says Arf'"
            ]
          },
          "metadata": {},
          "execution_count": 52
        }
      ]
    },
    {
      "cell_type": "markdown",
      "source": [
        "Sometimes it makes sense to completely override a method from a parent class.\n",
        "\n",
        "But in this instance, we don’t want the JackRussellTerrier class to lose any changes that might be made to the formatting of the output string of `Dog.speak()`.\n",
        "\n",
        "**In other words, we want completely override a method from a parent class,  expect `.speak()` method**"
      ],
      "metadata": {
        "id": "CUwVSUMp2FAp"
      }
    },
    {
      "cell_type": "markdown",
      "source": [
        "To do this, you still need to define a `.speak()` method on the child JackRussellTerrier class. \n",
        "\n",
        "But instead of explicitly defining the output string, you need to call the Dog class’s `.speak()` inside of the child class’s `.speak()` using the same arguments that you passed to `JackRussellTerrier.speak()`."
      ],
      "metadata": {
        "id": "r0c7l2Zd2SzU"
      }
    },
    {
      "cell_type": "markdown",
      "source": [
        "You can access the parent class from inside a method of a child class by using `super()`: 🔽"
      ],
      "metadata": {
        "id": "4BahjY7h2gSf"
      }
    },
    {
      "cell_type": "code",
      "source": [
        "class Dog:\n",
        "  species = \"Canis familiaris\"\n",
        "\n",
        "  def __init__(self, name, age):\n",
        "    self.name = name\n",
        "    self.age = age\n",
        "\n",
        "  # Instance Method\n",
        "  def __str__(self):\n",
        "    return f\"{self.name} is {self.age} years old\"\n",
        "\n",
        "  # Another Instance Method\n",
        "  def speak(self, sound):\n",
        "    return f\"{self.name} says {sound}\""
      ],
      "metadata": {
        "id": "9lyY0z8m9FUF"
      },
      "execution_count": 63,
      "outputs": []
    },
    {
      "cell_type": "code",
      "source": [
        "class JackRussellTerrier(Dog):\n",
        "  def speak(self, sound = \"Arf\"):\n",
        "    return f\"{self.name} says {sound}\""
      ],
      "metadata": {
        "id": "-dW-5lWD8UAh"
      },
      "execution_count": 65,
      "outputs": []
    },
    {
      "cell_type": "code",
      "source": [
        "miles = JackRussellTerrier(\"Miles\", 4)\n",
        "miles.speak()"
      ],
      "metadata": {
        "colab": {
          "base_uri": "https://localhost:8080/",
          "height": 35
        },
        "id": "uvodLVRw9M1s",
        "outputId": "6265f539-47ba-4730-af08-a329713adf1b"
      },
      "execution_count": 68,
      "outputs": [
        {
          "output_type": "execute_result",
          "data": {
            "application/vnd.google.colaboratory.intrinsic+json": {
              "type": "string"
            },
            "text/plain": [
              "'Miles says woof'"
            ]
          },
          "metadata": {},
          "execution_count": 68
        }
      ]
    },
    {
      "cell_type": "markdown",
      "source": [
        "**BUT**"
      ],
      "metadata": {
        "id": "ELh-L-T59fQg"
      }
    },
    {
      "cell_type": "code",
      "source": [
        "class Dog:\n",
        "  species = \"Canis familiaris\"\n",
        "\n",
        "  def __init__(self, name, age):\n",
        "    self.name = name\n",
        "    self.age = age\n",
        "\n",
        "  # Instance Method\n",
        "  def __str__(self):\n",
        "    return f\"{self.name} is {self.age} years old\"\n",
        "  \n",
        "  # Change the string returned by .speak()\n",
        "  def speak(self, sound):\n",
        "    return f\"{self.name} barks: {sound}\""
      ],
      "metadata": {
        "id": "H3sa1rGk9Wxr"
      },
      "execution_count": 69,
      "outputs": []
    },
    {
      "cell_type": "code",
      "source": [
        "class JackRussellTerrier(Dog):\n",
        "  def speak(self, sound=\"woof\"):\n",
        "    return super().speak(sound)"
      ],
      "metadata": {
        "id": "PL3eTRGO664O"
      },
      "execution_count": 70,
      "outputs": []
    },
    {
      "cell_type": "markdown",
      "source": [
        "When you call `super().speak(sound)` inside JackRussellTerrier, Python **searches** the parent class, **Dog**, for a `.speak()` method and **calls it with the variable sound**."
      ],
      "metadata": {
        "id": "-NOzTkU2743v"
      }
    },
    {
      "cell_type": "code",
      "source": [
        "miles = JackRussellTerrier(\"Miles\", 4)\n",
        "miles.speak()"
      ],
      "metadata": {
        "colab": {
          "base_uri": "https://localhost:8080/",
          "height": 35
        },
        "id": "j2Y7Og7P8xbc",
        "outputId": "274191d0-06d3-42fc-db70-edce77e34a31"
      },
      "execution_count": 71,
      "outputs": [
        {
          "output_type": "execute_result",
          "data": {
            "application/vnd.google.colaboratory.intrinsic+json": {
              "type": "string"
            },
            "text/plain": [
              "'Miles barks: woof'"
            ]
          },
          "metadata": {},
          "execution_count": 71
        }
      ]
    },
    {
      "cell_type": "markdown",
      "source": [
        "Now when you call `miles.speak()`, you’ll see output reflecting the new formatting in the Dog class."
      ],
      "metadata": {
        "id": "28YEPkn09sYB"
      }
    },
    {
      "cell_type": "markdown",
      "source": [
        "**Note:**\n",
        "\n",
        "In the above examples, the class hierarchy is very straightforward.\n",
        "\n",
        "The JackRussellTerrier class has a single parent class, **Dog**. In real-world examples, **the class hierarchy can get quite complicated**.\n",
        "\n",
        "`super()` does much more than just search the parent class for a method or an attribute.\n",
        "\n",
        "It traverses the entire class hierarchy for a matching method or attribute.\n",
        "\n",
        "If you aren’t careful, `super()` can have surprising results."
      ],
      "metadata": {
        "id": "9rTIIE6I9zBM"
      }
    },
    {
      "cell_type": "markdown",
      "source": [
        "## Check Your Understanding"
      ],
      "metadata": {
        "id": "YQ6JwdVPSJhy"
      }
    },
    {
      "cell_type": "markdown",
      "source": [
        "Exercise: class inheritance"
      ],
      "metadata": {
        "id": "oMjK9mx2HgKl"
      }
    },
    {
      "cell_type": "markdown",
      "source": [
        "Create a `GoldenRetriever` class that inherits from the Dog class.\n",
        "\n",
        "Give the sound argument of `GoldenRetriever.speak()` a default value of `\"Bark\"`. \n",
        "\n",
        "Use the following code for your parent Dog class: 🔽"
      ],
      "metadata": {
        "id": "laF--Qm7HnUl"
      }
    },
    {
      "cell_type": "code",
      "source": [
        "class Dog:\n",
        "  species = \"Canis familiaris\"\n",
        "\n",
        "  def __init__(self, name, age):\n",
        "    self.name = name\n",
        "    self.age = age\n",
        "  \n",
        "  def __str__(self):\n",
        "    return f\"{self.name} is {self.age} years old\"\n",
        "  \n",
        "  def speak(self, sound):\n",
        "    return f\"{self.name} says {sound}\""
      ],
      "metadata": {
        "id": "j1P92JkAHkUy"
      },
      "execution_count": 73,
      "outputs": []
    },
    {
      "cell_type": "code",
      "source": [
        "class GoldenRetriever(Dog):\n",
        "  def speak(self, sound = \"Bark\"):\n",
        "    return super().speak(sound)"
      ],
      "metadata": {
        "id": "kwaQq1tVIAor"
      },
      "execution_count": 75,
      "outputs": []
    },
    {
      "cell_type": "code",
      "source": [
        "mohammad = GoldenRetriever(\"moha\", 12)\n",
        "mohammad.speak()"
      ],
      "metadata": {
        "colab": {
          "base_uri": "https://localhost:8080/",
          "height": 35
        },
        "id": "Jjr28mJiIjy8",
        "outputId": "04480feb-f22a-4e6c-b5fa-a6d46ca4cca3"
      },
      "execution_count": 77,
      "outputs": [
        {
          "output_type": "execute_result",
          "data": {
            "application/vnd.google.colaboratory.intrinsic+json": {
              "type": "string"
            },
            "text/plain": [
              "'moha says Bark'"
            ]
          },
          "metadata": {},
          "execution_count": 77
        }
      ]
    },
    {
      "cell_type": "markdown",
      "source": [
        "The sound parameter in `GoldenRetriever.speak()` is given a default value of \"Bark\".\n",
        "\n",
        "Then `super()` is used to call the parent class’s `.speak()` method with the same argument passed to sound as the GoldenRetriever class’s `.speak()` method."
      ],
      "metadata": {
        "id": "QTDd_KNKI0mX"
      }
    },
    {
      "cell_type": "markdown",
      "source": [
        "# Conclusion"
      ],
      "metadata": {
        "id": "9DT1imRcSQfg"
      }
    },
    {
      "cell_type": "markdown",
      "source": [
        "In this tutorial, you learned about object-oriented programming (OOP) in Python. Most modern programming languages, such as Java, C#, and C++, follow OOP principles, so the knowledge you gained here will be applicable no matter where your programming career takes you."
      ],
      "metadata": {
        "id": "vj1fM28AJUGM"
      }
    },
    {
      "cell_type": "markdown",
      "source": [
        "In this tutorial, you learned how to:\n",
        "\n",
        "1.   Define a **class**, which is a sort of blueprint for an object\n",
        "2.   Instantiate an **object** from a class\n",
        "3.   Use **attributes** and **methods** to define the **properties** and **behaviors** of an object\n",
        "4.   Use **inheritance** to create **child classes** from a **parent class**\n",
        "5.   Reference a method on a parent class using **`super()`**\n",
        "6.   Check if an object inherits from another class using **`isinstance()`**"
      ],
      "metadata": {
        "id": "nHYtuz9pSV7B"
      }
    },
    {
      "cell_type": "markdown",
      "source": [
        "ex: let's build an computer class :D"
      ],
      "metadata": {
        "id": "ru1_nLO4FLgF"
      }
    },
    {
      "cell_type": "code",
      "source": [
        "class Computer:\n",
        "    count = 0\n",
        "    def __init__(self, ram, hard, cpu):\n",
        "        Computer.count += 1\n",
        "        self.ram = ram\n",
        "        self.hard = hard\n",
        "        self.cpu = cpu\n",
        "\n",
        "    def value(self):\n",
        "        return self.ram + self.hard + self.cpu\n",
        "\n",
        "    def __del__(self):\n",
        "        Computer.count -= 1\n",
        "\n",
        "class Laptop(Computer):\n",
        "    def value(self):\n",
        "        return self.ram + self.hard + self.cpu + self.size\n",
        "\n",
        "\n",
        "pc1 = Computer(12, 2, 4)\n",
        "print(pc1.value())\n",
        "del pc1\n",
        "\n",
        "laptop1 = Laptop(16,2,4)\n",
        "laptop1.size = 13\n",
        "print(laptop1.value())"
      ],
      "metadata": {
        "id": "2dQrHXZ7FFEm",
        "colab": {
          "base_uri": "https://localhost:8080/"
        },
        "outputId": "287d9e6c-27d6-4b4c-a43c-493d7b2ae6b2"
      },
      "execution_count": 1,
      "outputs": [
        {
          "output_type": "stream",
          "name": "stdout",
          "text": [
            "18\n",
            "35\n"
          ]
        }
      ]
    },
    {
      "cell_type": "markdown",
      "source": [
        "# References\n",
        "\n",
        "[real python](https://realpython.com/tutorials/all/\n",
        ")\n",
        "\n",
        "[OOP real python](https://realpython.com/learning-paths/object-oriented-programming-oop-python/\n",
        ")\n",
        "\n",
        "[OOP in python3](https://realpython.com/python3-object-oriented-programming/)\n",
        "\n",
        "[Python 3's f-Strings: An Improved String Formatting Syntax (Guide)](https://realpython.com/python-f-strings/)\n",
        "\n",
        "[A Guide to the Newer Python String Format Techniques](https://realpython.com/python-formatted-output/#f-string-formatting)"
      ],
      "metadata": {
        "id": "OX5Nkj1f8PyB"
      }
    }
  ]
}