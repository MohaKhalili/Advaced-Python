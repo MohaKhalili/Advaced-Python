{
  "nbformat": 4,
  "nbformat_minor": 0,
  "metadata": {
    "colab": {
      "name": "4-Inheritance.ipynb",
      "provenance": [],
      "authorship_tag": "ABX9TyN0jU0OsyJrbxE/2d8BhlGX",
      "include_colab_link": true
    },
    "kernelspec": {
      "name": "python3",
      "display_name": "Python 3"
    },
    "language_info": {
      "name": "python"
    }
  },
  "cells": [
    {
      "cell_type": "markdown",
      "metadata": {
        "id": "view-in-github",
        "colab_type": "text"
      },
      "source": [
        "<a href=\"https://colab.research.google.com/github/mohakhalili/Advaced-Python/blob/main/OOP-Jadi/4_Inheritance.ipynb\" target=\"_parent\"><img src=\"https://colab.research.google.com/assets/colab-badge.svg\" alt=\"Open In Colab\"/></a>"
      ]
    },
    {
      "cell_type": "code",
      "execution_count": 2,
      "metadata": {
        "colab": {
          "base_uri": "https://localhost:8080/"
        },
        "id": "U_0BBB-tHFHJ",
        "outputId": "da4be74a-a3d3-4cf0-c2b2-511192038c51"
      },
      "outputs": [
        {
          "output_type": "stream",
          "name": "stdout",
          "text": [
            "18\n",
            "35\n"
          ]
        }
      ],
      "source": [
        "class Computer:\n",
        "    count = 0\n",
        "    def __init__(self, ram, hard, cpu):\n",
        "        Computer.count += 1\n",
        "        self.ram = ram\n",
        "        self.hard = hard\n",
        "        self.cpu = cpu\n",
        "\n",
        "    def value(self):\n",
        "        return self.ram + self.hard + self.cpu\n",
        "\n",
        "    def __del__(self):\n",
        "        Computer.count -= 1\n",
        "\n",
        "class Laptop(Computer):\n",
        "    def value(self):\n",
        "        return self.ram + self.hard + self.cpu + self.size\n",
        "\n",
        "\n",
        "pc1 = Computer(12, 2, 4)\n",
        "print(pc1.value())\n",
        "del pc1\n",
        "\n",
        "laptop1 = Laptop(16,2,4)\n",
        "laptop1.size = 13\n",
        "print(laptop1.value())"
      ]
    }
  ]
}