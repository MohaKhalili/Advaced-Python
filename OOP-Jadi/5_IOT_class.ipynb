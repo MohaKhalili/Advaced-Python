{
  "nbformat": 4,
  "nbformat_minor": 0,
  "metadata": {
    "colab": {
      "name": "5-IOT-class.ipynb",
      "provenance": [],
      "collapsed_sections": [],
      "authorship_tag": "ABX9TyNVrbcqtGCRTkGaYgRQOgT1",
      "include_colab_link": true
    },
    "kernelspec": {
      "name": "python3",
      "display_name": "Python 3"
    },
    "language_info": {
      "name": "python"
    }
  },
  "cells": [
    {
      "cell_type": "markdown",
      "metadata": {
        "id": "view-in-github",
        "colab_type": "text"
      },
      "source": [
        "<a href=\"https://colab.research.google.com/github/mohakhalili/Advaced-Python/blob/main/OOP-Jadi/5_IOT_class.ipynb\" target=\"_parent\"><img src=\"https://colab.research.google.com/assets/colab-badge.svg\" alt=\"Open In Colab\"/></a>"
      ]
    },
    {
      "cell_type": "code",
      "execution_count": 8,
      "metadata": {
        "id": "xmNSPg-NRIp3"
      },
      "outputs": [],
      "source": [
        "class Device:\n",
        "  count = 0\n",
        "  def __init__(self, ip, mac, name):\n",
        "    self.ip = ip\n",
        "    self.mac_address = mac\n",
        "    self.name = name\n",
        "    Device.counter += 1\n",
        "\n",
        "    # result = ping the device\n",
        "    if result:\n",
        "      self.status = 'active'\n",
        "    else:\n",
        "      self.status = 'unknown'\n",
        "  def get_status(self):\n",
        "    # return result based on ping results for self.ip\n",
        "    pass"
      ]
    },
    {
      "cell_type": "code",
      "source": [
        "class TV(Device):\n",
        "  def turn_on(self):\n",
        "    # connect to self.ip and turn on\n",
        "    pass\n",
        "  def turn_off(self):\n",
        "    # connect to self.ip and turn off\n",
        "    pass\n",
        "\n",
        "class Thermo(Device):\n",
        "  def get_degree(self):\n",
        "    # connect to self.ip and read degree and return the result\n",
        "    return result\n",
        "\n",
        "class SmartTV(TV):\n",
        "  def turn_on(self):\n",
        "  # turn on the smart tv from self.ip\n",
        "    pass\n",
        "\n",
        "mohammad_tv = TV"
      ],
      "metadata": {
        "id": "N-VINYOe5t1I"
      },
      "execution_count": 12,
      "outputs": []
    }
  ]
}