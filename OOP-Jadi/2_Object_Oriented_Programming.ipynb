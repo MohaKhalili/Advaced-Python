{
  "nbformat": 4,
  "nbformat_minor": 0,
  "metadata": {
    "colab": {
      "name": "2-Object-Oriented-Programming.ipynb",
      "provenance": [],
      "authorship_tag": "ABX9TyN4Dgj0EQTMP4iQ47yiwiKw",
      "include_colab_link": true
    },
    "kernelspec": {
      "name": "python3",
      "display_name": "Python 3"
    },
    "language_info": {
      "name": "python"
    }
  },
  "cells": [
    {
      "cell_type": "markdown",
      "metadata": {
        "id": "view-in-github",
        "colab_type": "text"
      },
      "source": [
        "<a href=\"https://colab.research.google.com/github/mohakhalili/Advaced-Python/blob/main/OOP-Jadi/2_Object_Oriented_Programming.ipynb\" target=\"_parent\"><img src=\"https://colab.research.google.com/assets/colab-badge.svg\" alt=\"Open In Colab\"/></a>"
      ]
    },
    {
      "cell_type": "markdown",
      "source": [
        "# Concept"
      ],
      "metadata": {
        "id": "TgO6WDcUa7AY"
      }
    },
    {
      "cell_type": "markdown",
      "source": [
        "Python is build based on object oriented programming"
      ],
      "metadata": {
        "id": "QLcP3UtA7ErZ"
      }
    },
    {
      "cell_type": "markdown",
      "source": [
        "good link about OOP :\n",
        "\n",
        "[real python](https://realpython.com/tutorials/all/\n",
        ")\n",
        "\n",
        "[OOP real python](https://realpython.com/learning-paths/object-oriented-programming-oop-python/\n",
        ")\n",
        "\n",
        "[OOP in python3](https://realpython.com/python3-object-oriented-programming/)"
      ],
      "metadata": {
        "id": "OX5Nkj1f8PyB"
      }
    },
    {
      "cell_type": "markdown",
      "source": [
        "Object-oriented programming (OOP) is a method of structuring a program by bundling related properties and behaviors into individual objects."
      ],
      "metadata": {
        "id": "PIg-0xaE8RKP"
      }
    },
    {
      "cell_type": "markdown",
      "source": [
        "It defines  by class\n",
        "It contains variables and methods\n",
        "\n",
        "Variables includes two types:\n",
        "1- Class variables: which are constant in the class\n",
        "2- Object variables: which constant only in one object"
      ],
      "metadata": {
        "id": "LpNpCRSJ-guf"
      }
    },
    {
      "cell_type": "markdown",
      "source": [
        "ex: let's build an university class"
      ],
      "metadata": {
        "id": "ru1_nLO4FLgF"
      }
    },
    {
      "cell_type": "code",
      "source": [
        "class person:\n",
        "    # class variables:\n",
        "    count = 0\n",
        "\n",
        "    # init method means starter method\n",
        "    # in python, when we are working with methods in a class, \n",
        "    #  I always set a 'self' at first \n",
        "    \n",
        "    # If anyone want to make a person, should give me name and age\n",
        "    def __init__(self, name, age):\n",
        "        # self mention to this object\n",
        "        # We build a class named person, \n",
        "        # and then we say Mohammad for example is a person, \n",
        "        # self mention to Mohammad\n",
        "        self.name = name\n",
        "        self.age = age\n",
        "        person.count = person.count + 1\n",
        "\n",
        "    def get_name(self):\n",
        "        print('name is %s' % self.name )\n",
        "\n",
        "    def get_age(self):\n",
        "        print('age is %s' % self.age)\n",
        "\n",
        "    def get_info(self):\n",
        "        print('name is %s and age is %i' % (self.name, self.age))\n",
        "\n",
        "    def birthday(self):\n",
        "        self.age = self.age + 1\n",
        "        print('happy birthday %s' % self.name, ', your age is %s now' %self.age)\n",
        "\n",
        "    def return_count(self):\n",
        "        return (person.count)"
      ],
      "metadata": {
        "id": "2dQrHXZ7FFEm"
      },
      "execution_count": 3,
      "outputs": []
    },
    {
      "cell_type": "code",
      "source": [
        "Mohammad = person('Mohammad',28)"
      ],
      "metadata": {
        "id": "aoLrjgnlaPRY"
      },
      "execution_count": 4,
      "outputs": []
    },
    {
      "cell_type": "code",
      "source": [
        "Mohammad.get_name()"
      ],
      "metadata": {
        "colab": {
          "base_uri": "https://localhost:8080/"
        },
        "id": "NqogN8ZAaq03",
        "outputId": "5410ca3e-05e1-456f-916c-488c257cb136"
      },
      "execution_count": 9,
      "outputs": [
        {
          "output_type": "stream",
          "name": "stdout",
          "text": [
            "name is Mohammad\n"
          ]
        }
      ]
    },
    {
      "cell_type": "code",
      "source": [
        "Mohammad.get_age()"
      ],
      "metadata": {
        "colab": {
          "base_uri": "https://localhost:8080/"
        },
        "id": "t28eO3KVau7W",
        "outputId": "6df4927e-62c7-455c-d28c-f63da76ad70f"
      },
      "execution_count": 10,
      "outputs": [
        {
          "output_type": "stream",
          "name": "stdout",
          "text": [
            "age is 29\n"
          ]
        }
      ]
    },
    {
      "cell_type": "code",
      "source": [
        "Mohammad.get_info()"
      ],
      "metadata": {
        "colab": {
          "base_uri": "https://localhost:8080/"
        },
        "id": "kH2pi7Cbaaf6",
        "outputId": "bab2d8c0-2886-491f-e400-94d421389ae3"
      },
      "execution_count": 5,
      "outputs": [
        {
          "output_type": "stream",
          "name": "stdout",
          "text": [
            "name is Mohammad and age is 28\n"
          ]
        }
      ]
    },
    {
      "cell_type": "code",
      "source": [
        "Mohammad.birthday()\n"
      ],
      "metadata": {
        "colab": {
          "base_uri": "https://localhost:8080/"
        },
        "id": "AQ8mfzx4adYH",
        "outputId": "896da9d2-23d1-49c8-f7a1-184ea2b168f7"
      },
      "execution_count": 6,
      "outputs": [
        {
          "output_type": "stream",
          "name": "stdout",
          "text": [
            "happy birthday Mohammad , your age is 29 now\n"
          ]
        }
      ]
    },
    {
      "cell_type": "code",
      "source": [
        "Manooch = person('manoochehr', 12)"
      ],
      "metadata": {
        "id": "otWhBjg-akgO"
      },
      "execution_count": 7,
      "outputs": []
    },
    {
      "cell_type": "code",
      "source": [
        "Manooch.get_info()"
      ],
      "metadata": {
        "colab": {
          "base_uri": "https://localhost:8080/"
        },
        "id": "DUTU7n4qamW7",
        "outputId": "34fc9386-4218-4138-ffcf-5ccc2de8ef29"
      },
      "execution_count": 8,
      "outputs": [
        {
          "output_type": "stream",
          "name": "stdout",
          "text": [
            "name is manoochehr and age is 12\n"
          ]
        }
      ]
    },
    {
      "cell_type": "code",
      "source": [
        "print('at the moment I have %i persons' % Manooch.return_count())"
      ],
      "metadata": {
        "colab": {
          "base_uri": "https://localhost:8080/"
        },
        "id": "KndJIXJta0FZ",
        "outputId": "032ff5c5-ed1f-4da1-b104-2633f1265c04"
      },
      "execution_count": 11,
      "outputs": [
        {
          "output_type": "stream",
          "name": "stdout",
          "text": [
            "at the moment I have 2 persons\n"
          ]
        }
      ]
    }
  ]
}